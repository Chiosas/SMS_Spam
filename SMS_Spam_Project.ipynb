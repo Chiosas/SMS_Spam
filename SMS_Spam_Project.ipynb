{
  "nbformat": 4,
  "nbformat_minor": 0,
  "metadata": {
    "colab": {
      "name": "SMS Spam - Project.ipynb",
      "provenance": [],
      "collapsed_sections": [],
      "toc_visible": true,
      "include_colab_link": true
    },
    "kernelspec": {
      "name": "python3",
      "display_name": "Python 3"
    },
    "accelerator": "GPU"
  },
  "cells": [
    {
      "cell_type": "markdown",
      "metadata": {
        "id": "view-in-github",
        "colab_type": "text"
      },
      "source": [
        "<a href=\"https://colab.research.google.com/github/Chiosas/SMS_Spam/blob/master/SMS_Spam_Project.ipynb\" target=\"_parent\"><img src=\"https://colab.research.google.com/assets/colab-badge.svg\" alt=\"Open In Colab\"/></a>"
      ]
    },
    {
      "cell_type": "markdown",
      "metadata": {
        "id": "BTNEw-nQHu5Q",
        "colab_type": "text"
      },
      "source": [
        "## ***Initial Setup***"
      ]
    },
    {
      "cell_type": "markdown",
      "metadata": {
        "id": "zykRzoSaHwzI",
        "colab_type": "text"
      },
      "source": [
        "### ***Environment Setup***"
      ]
    },
    {
      "cell_type": "code",
      "metadata": {
        "id": "suCiEizOFyC-",
        "colab_type": "code",
        "colab": {}
      },
      "source": [
        "import os\n",
        "from pathlib import Path"
      ],
      "execution_count": 0,
      "outputs": []
    },
    {
      "cell_type": "code",
      "metadata": {
        "id": "_6UQ7ClWH2rz",
        "colab_type": "code",
        "colab": {}
      },
      "source": [
        "dir_name = 'SMS_SPAM'\n",
        "DATA_DIR = Path(f'data/{dir_name}')\n",
        "MODEL_DIR = Path(f'model/{dir_name}')"
      ],
      "execution_count": 0,
      "outputs": []
    },
    {
      "cell_type": "code",
      "metadata": {
        "id": "b4hMtCwvISDN",
        "colab_type": "code",
        "colab": {}
      },
      "source": [
        "try:\n",
        "    import google.colab\n",
        "    IN_COLAB = True\n",
        "except:\n",
        "    IN_COLAB = False\n",
        "\n",
        "FIRST_RUN = not os.path.exists(str(MODEL_DIR))"
      ],
      "execution_count": 0,
      "outputs": []
    },
    {
      "cell_type": "code",
      "metadata": {
        "id": "iFcgyiQJIwFg",
        "colab_type": "code",
        "colab": {}
      },
      "source": [
        "if not IN_COLAB:\n",
        "    os.environ[\"CUDA_DEVICE_ORDER\"]=\"PCI_BUS_ID\"\n",
        "    os.environ[\"CUDA_VISIBLE_DEVICES\"]=\"0\""
      ],
      "execution_count": 0,
      "outputs": []
    },
    {
      "cell_type": "code",
      "metadata": {
        "id": "6Y35QFOnI2mV",
        "colab_type": "code",
        "colab": {}
      },
      "source": [
        "if FIRST_RUN:\n",
        "    os.makedirs(MODEL_DIR, exist_ok=True)\n",
        "    os.makedirs(DATA_DIR, exist_ok=True)\n",
        "\n",
        "if IN_COLAB and FIRST_RUN:\n",
        "    !pip install -q --upgrade scikit-optimize\n",
        "    !pip install -q -U --pre efficientnet"
      ],
      "execution_count": 0,
      "outputs": []
    },
    {
      "cell_type": "markdown",
      "metadata": {
        "id": "ui_SjR6wJDFR",
        "colab_type": "text"
      },
      "source": [
        "### ***Kaggle Setup***"
      ]
    },
    {
      "cell_type": "code",
      "metadata": {
        "id": "iEZbn2wqI-m9",
        "colab_type": "code",
        "colab": {}
      },
      "source": [
        "def setup_kaggle():\n",
        "    x = !ls kaggle.json\n",
        "    assert x == ['kaggle.json'], 'Upload kaggle.json'\n",
        "    !mkdir /root/.kaggle\n",
        "    !mv kaggle.json /root/.kaggle\n",
        "    !chmod 600 /root/.kaggle/kaggle.json"
      ],
      "execution_count": 0,
      "outputs": []
    },
    {
      "cell_type": "code",
      "metadata": {
        "id": "RC4GTje0JI9k",
        "colab_type": "code",
        "colab": {}
      },
      "source": [
        "# Make sure you've uploaded 'kaggle.json' file into Colab\n",
        "if IN_COLAB and FIRST_RUN:\n",
        "    setup_kaggle()"
      ],
      "execution_count": 0,
      "outputs": []
    },
    {
      "cell_type": "code",
      "metadata": {
        "id": "CDk8iFHVJNKe",
        "colab_type": "code",
        "colab": {}
      },
      "source": [
        "import kaggle"
      ],
      "execution_count": 0,
      "outputs": []
    },
    {
      "cell_type": "code",
      "metadata": {
        "id": "Xq5e7iocJSKF",
        "colab_type": "code",
        "colab": {}
      },
      "source": [
        "if IN_COLAB and FIRST_RUN:\n",
        "    kaggle.api.authenticate()\n",
        "    kaggle.api.dataset_download_files(\n",
        "        dataset='uciml/sms-spam-collection-dataset',\n",
        "        path=DATA_DIR,\n",
        "        unzip=True,\n",
        "    )"
      ],
      "execution_count": 0,
      "outputs": []
    },
    {
      "cell_type": "markdown",
      "metadata": {
        "id": "CaidRtp8Jh6y",
        "colab_type": "text"
      },
      "source": [
        "### ***Importing Dependencies***"
      ]
    },
    {
      "cell_type": "code",
      "metadata": {
        "id": "0v3SswCrJhND",
        "colab_type": "code",
        "outputId": "ee592756-a1c6-4317-d712-871ebbf433b7",
        "colab": {
          "base_uri": "https://localhost:8080/",
          "height": 34
        }
      },
      "source": [
        "try:\n",
        "    # %tensorflow_version only exists in Colab.\n",
        "    %tensorflow_version 2.x\n",
        "except Exception:\n",
        "    pass"
      ],
      "execution_count": 0,
      "outputs": [
        {
          "output_type": "stream",
          "text": [
            "TensorFlow 2.x selected.\n"
          ],
          "name": "stdout"
        }
      ]
    },
    {
      "cell_type": "code",
      "metadata": {
        "id": "Ij8cO6orJfJm",
        "colab_type": "code",
        "outputId": "9d769e8b-b390-429f-b5b1-24fcc34d0af8",
        "colab": {
          "base_uri": "https://localhost:8080/",
          "height": 71
        }
      },
      "source": [
        "from imports import *"
      ],
      "execution_count": 0,
      "outputs": [
        {
          "output_type": "stream",
          "text": [
            "/usr/local/lib/python3.6/dist-packages/sklearn/externals/joblib/__init__.py:15: DeprecationWarning: sklearn.externals.joblib is deprecated in 0.21 and will be removed in 0.23. Please import this functionality directly from joblib, which can be installed with: pip install joblib. If this warning is raised when loading pickled models, you may need to re-serialize those models with scikit-learn 0.21+.\n",
            "  warnings.warn(msg, category=DeprecationWarning)\n"
          ],
          "name": "stderr"
        }
      ]
    },
    {
      "cell_type": "code",
      "metadata": {
        "id": "HhQHDLNVJvPi",
        "colab_type": "code",
        "outputId": "134a66fb-3b1b-4870-db32-14c2300edeae",
        "colab": {
          "base_uri": "https://localhost:8080/",
          "height": 34
        }
      },
      "source": [
        "tf.__version__"
      ],
      "execution_count": 0,
      "outputs": [
        {
          "output_type": "execute_result",
          "data": {
            "text/plain": [
              "'2.0.0'"
            ]
          },
          "metadata": {
            "tags": []
          },
          "execution_count": 12
        }
      ]
    },
    {
      "cell_type": "code",
      "metadata": {
        "id": "FCR8pXbGJ3kU",
        "colab_type": "code",
        "colab": {}
      },
      "source": [
        "if FIRST_RUN:\n",
        "    exit()"
      ],
      "execution_count": 0,
      "outputs": []
    },
    {
      "cell_type": "code",
      "metadata": {
        "id": "GYoEyQo90Vsg",
        "colab_type": "code",
        "colab": {}
      },
      "source": [
        "%matplotlib inline"
      ],
      "execution_count": 0,
      "outputs": []
    },
    {
      "cell_type": "markdown",
      "metadata": {
        "id": "7mZ2PLdqJ8kw",
        "colab_type": "text"
      },
      "source": [
        "## ***Data Description***\n"
      ]
    },
    {
      "cell_type": "markdown",
      "metadata": {
        "id": "dgia731oLsag",
        "colab_type": "text"
      },
      "source": [
        "### **Content**\n",
        "\n",
        "![SPAM](https://it93.co.uk/wp-content/uploads/2017/04/spam-email.jpg)\n",
        "\n",
        "\n",
        "The SMS Spam Collection is a set of SMS tagged messages that have been collected for SMS Spam research. It contains one set of SMS messages in English of 5,574 messages, tagged acording being ham (legitimate) or spam.\n",
        "\n",
        "The columns of the data file are:\n",
        "\n",
        "* v1 — SMS class\n",
        "* v2 — SMS text\n",
        "\n",
        "We will use this dataset to build a prediction model that will accurately classify which texts are spam."
      ]
    },
    {
      "cell_type": "markdown",
      "metadata": {
        "id": "Q90sLcFJOr-p",
        "colab_type": "text"
      },
      "source": [
        "### ***Data Exploration***"
      ]
    },
    {
      "cell_type": "code",
      "metadata": {
        "id": "7yy_5c1WJ7HC",
        "colab_type": "code",
        "colab": {}
      },
      "source": [
        "# Reading the data from the file\n",
        "raw_data = pd.read_csv(DATA_DIR/'spam.csv', low_memory=False, encoding='latin-1')"
      ],
      "execution_count": 0,
      "outputs": []
    },
    {
      "cell_type": "code",
      "metadata": {
        "id": "MBz4XE6cPVnx",
        "colab_type": "code",
        "outputId": "a052be06-c13d-48da-aff6-71b315f480d6",
        "colab": {
          "base_uri": "https://localhost:8080/",
          "height": 51
        }
      },
      "source": [
        "print('Number of rows in the dataset:', raw_data.shape[0])\n",
        "print('Number of columns in the dataset:', raw_data.shape[1])"
      ],
      "execution_count": 0,
      "outputs": [
        {
          "output_type": "stream",
          "text": [
            "Number of rows in the dataset: 5572\n",
            "Number of columns in the dataset: 5\n"
          ],
          "name": "stdout"
        }
      ]
    },
    {
      "cell_type": "code",
      "metadata": {
        "id": "AjtK4nGtNwfJ",
        "colab_type": "code",
        "outputId": "ad32ce0d-8319-4197-8fda-8d03d5bd9c45",
        "colab": {
          "base_uri": "https://localhost:8080/",
          "height": 187
        }
      },
      "source": [
        "raw_data.info()"
      ],
      "execution_count": 0,
      "outputs": [
        {
          "output_type": "stream",
          "text": [
            "<class 'pandas.core.frame.DataFrame'>\n",
            "RangeIndex: 5572 entries, 0 to 5571\n",
            "Data columns (total 5 columns):\n",
            "v1            5572 non-null object\n",
            "v2            5572 non-null object\n",
            "Unnamed: 2    50 non-null object\n",
            "Unnamed: 3    12 non-null object\n",
            "Unnamed: 4    6 non-null object\n",
            "dtypes: object(5)\n",
            "memory usage: 217.8+ KB\n"
          ],
          "name": "stdout"
        }
      ]
    },
    {
      "cell_type": "code",
      "metadata": {
        "id": "xUNN0O_uOw3j",
        "colab_type": "code",
        "outputId": "05ef1f6f-0106-4daa-fcfe-8b58d9c24194",
        "colab": {
          "base_uri": "https://localhost:8080/",
          "height": 173
        }
      },
      "source": [
        "raw_data.describe(include='all')"
      ],
      "execution_count": 0,
      "outputs": [
        {
          "output_type": "execute_result",
          "data": {
            "text/html": [
              "<div>\n",
              "<style scoped>\n",
              "    .dataframe tbody tr th:only-of-type {\n",
              "        vertical-align: middle;\n",
              "    }\n",
              "\n",
              "    .dataframe tbody tr th {\n",
              "        vertical-align: top;\n",
              "    }\n",
              "\n",
              "    .dataframe thead th {\n",
              "        text-align: right;\n",
              "    }\n",
              "</style>\n",
              "<table border=\"1\" class=\"dataframe\">\n",
              "  <thead>\n",
              "    <tr style=\"text-align: right;\">\n",
              "      <th></th>\n",
              "      <th>v1</th>\n",
              "      <th>v2</th>\n",
              "      <th>Unnamed: 2</th>\n",
              "      <th>Unnamed: 3</th>\n",
              "      <th>Unnamed: 4</th>\n",
              "    </tr>\n",
              "  </thead>\n",
              "  <tbody>\n",
              "    <tr>\n",
              "      <th>count</th>\n",
              "      <td>5572</td>\n",
              "      <td>5572</td>\n",
              "      <td>50</td>\n",
              "      <td>12</td>\n",
              "      <td>6</td>\n",
              "    </tr>\n",
              "    <tr>\n",
              "      <th>unique</th>\n",
              "      <td>2</td>\n",
              "      <td>5169</td>\n",
              "      <td>43</td>\n",
              "      <td>10</td>\n",
              "      <td>5</td>\n",
              "    </tr>\n",
              "    <tr>\n",
              "      <th>top</th>\n",
              "      <td>ham</td>\n",
              "      <td>Sorry, I'll call later</td>\n",
              "      <td>bt not his girlfrnd... G o o d n i g h t . . .@\"</td>\n",
              "      <td>MK17 92H. 450Ppw 16\"</td>\n",
              "      <td>GNT:-)\"</td>\n",
              "    </tr>\n",
              "    <tr>\n",
              "      <th>freq</th>\n",
              "      <td>4825</td>\n",
              "      <td>30</td>\n",
              "      <td>3</td>\n",
              "      <td>2</td>\n",
              "      <td>2</td>\n",
              "    </tr>\n",
              "  </tbody>\n",
              "</table>\n",
              "</div>"
            ],
            "text/plain": [
              "          v1                      v2  ...             Unnamed: 3 Unnamed: 4\n",
              "count   5572                    5572  ...                     12          6\n",
              "unique     2                    5169  ...                     10          5\n",
              "top      ham  Sorry, I'll call later  ...   MK17 92H. 450Ppw 16\"    GNT:-)\"\n",
              "freq    4825                      30  ...                      2          2\n",
              "\n",
              "[4 rows x 5 columns]"
            ]
          },
          "metadata": {
            "tags": []
          },
          "execution_count": 18
        }
      ]
    },
    {
      "cell_type": "code",
      "metadata": {
        "id": "u0wGyScJO-ZA",
        "colab_type": "code",
        "outputId": "98a8baf7-e931-4f08-faec-d27a9211f7b7",
        "colab": {
          "base_uri": "https://localhost:8080/",
          "height": 204
        }
      },
      "source": [
        "raw_data.head()"
      ],
      "execution_count": 0,
      "outputs": [
        {
          "output_type": "execute_result",
          "data": {
            "text/html": [
              "<div>\n",
              "<style scoped>\n",
              "    .dataframe tbody tr th:only-of-type {\n",
              "        vertical-align: middle;\n",
              "    }\n",
              "\n",
              "    .dataframe tbody tr th {\n",
              "        vertical-align: top;\n",
              "    }\n",
              "\n",
              "    .dataframe thead th {\n",
              "        text-align: right;\n",
              "    }\n",
              "</style>\n",
              "<table border=\"1\" class=\"dataframe\">\n",
              "  <thead>\n",
              "    <tr style=\"text-align: right;\">\n",
              "      <th></th>\n",
              "      <th>v1</th>\n",
              "      <th>v2</th>\n",
              "      <th>Unnamed: 2</th>\n",
              "      <th>Unnamed: 3</th>\n",
              "      <th>Unnamed: 4</th>\n",
              "    </tr>\n",
              "  </thead>\n",
              "  <tbody>\n",
              "    <tr>\n",
              "      <th>0</th>\n",
              "      <td>ham</td>\n",
              "      <td>Go until jurong point, crazy.. Available only ...</td>\n",
              "      <td>NaN</td>\n",
              "      <td>NaN</td>\n",
              "      <td>NaN</td>\n",
              "    </tr>\n",
              "    <tr>\n",
              "      <th>1</th>\n",
              "      <td>ham</td>\n",
              "      <td>Ok lar... Joking wif u oni...</td>\n",
              "      <td>NaN</td>\n",
              "      <td>NaN</td>\n",
              "      <td>NaN</td>\n",
              "    </tr>\n",
              "    <tr>\n",
              "      <th>2</th>\n",
              "      <td>spam</td>\n",
              "      <td>Free entry in 2 a wkly comp to win FA Cup fina...</td>\n",
              "      <td>NaN</td>\n",
              "      <td>NaN</td>\n",
              "      <td>NaN</td>\n",
              "    </tr>\n",
              "    <tr>\n",
              "      <th>3</th>\n",
              "      <td>ham</td>\n",
              "      <td>U dun say so early hor... U c already then say...</td>\n",
              "      <td>NaN</td>\n",
              "      <td>NaN</td>\n",
              "      <td>NaN</td>\n",
              "    </tr>\n",
              "    <tr>\n",
              "      <th>4</th>\n",
              "      <td>ham</td>\n",
              "      <td>Nah I don't think he goes to usf, he lives aro...</td>\n",
              "      <td>NaN</td>\n",
              "      <td>NaN</td>\n",
              "      <td>NaN</td>\n",
              "    </tr>\n",
              "  </tbody>\n",
              "</table>\n",
              "</div>"
            ],
            "text/plain": [
              "     v1  ... Unnamed: 4\n",
              "0   ham  ...        NaN\n",
              "1   ham  ...        NaN\n",
              "2  spam  ...        NaN\n",
              "3   ham  ...        NaN\n",
              "4   ham  ...        NaN\n",
              "\n",
              "[5 rows x 5 columns]"
            ]
          },
          "metadata": {
            "tags": []
          },
          "execution_count": 19
        }
      ]
    },
    {
      "cell_type": "code",
      "metadata": {
        "id": "OK3wgChGQvJB",
        "colab_type": "code",
        "colab": {}
      },
      "source": [
        "text_col = 'v2'\n",
        "target_col = 'v1'"
      ],
      "execution_count": 0,
      "outputs": []
    },
    {
      "cell_type": "code",
      "metadata": {
        "id": "e6yaLBF2Pu7M",
        "colab_type": "code",
        "outputId": "82cc42ba-b371-4758-b2e3-8f15cadb47a0",
        "colab": {
          "base_uri": "https://localhost:8080/",
          "height": 34
        }
      },
      "source": [
        "n_classes = raw_data[target_col].nunique()\n",
        "print(f'Total number of classes is {n_classes}.')"
      ],
      "execution_count": 0,
      "outputs": [
        {
          "output_type": "stream",
          "text": [
            "Total number of classes is 2.\n"
          ],
          "name": "stdout"
        }
      ]
    },
    {
      "cell_type": "code",
      "metadata": {
        "id": "77LO3SYYPL0f",
        "colab_type": "code",
        "outputId": "aa7d8e99-d34e-49c1-b298-70fbf9cfc14d",
        "colab": {
          "base_uri": "https://localhost:8080/",
          "height": 68
        }
      },
      "source": [
        "raw_data[target_col].value_counts()"
      ],
      "execution_count": 0,
      "outputs": [
        {
          "output_type": "execute_result",
          "data": {
            "text/plain": [
              "ham     4825\n",
              "spam     747\n",
              "Name: v1, dtype: int64"
            ]
          },
          "metadata": {
            "tags": []
          },
          "execution_count": 22
        }
      ]
    },
    {
      "cell_type": "code",
      "metadata": {
        "id": "fQ-FTLQIRAWq",
        "colab_type": "code",
        "colab": {}
      },
      "source": [
        "class_dist_df = raw_data[[text_col, target_col]].groupby(target_col, as_index=False).count()"
      ],
      "execution_count": 0,
      "outputs": []
    },
    {
      "cell_type": "code",
      "metadata": {
        "id": "bm0FyZqSRPzc",
        "colab_type": "code",
        "outputId": "dc61b9ce-710f-4bf4-a98e-789d5ced7f99",
        "colab": {
          "base_uri": "https://localhost:8080/",
          "height": 302
        }
      },
      "source": [
        "# setting plot style & size\n",
        "sns.set(style='darkgrid')\n",
        "plt.figure(figsize=(10, 4))\n",
        "\n",
        "# rendering plot\n",
        "sns.barplot(x='v2', y='v1', data=class_dist_df, edgecolor='black', orient='h')\n",
        "\n",
        "# adding chart title\n",
        "plt.title('Number of texts per class', size=14)\n",
        "\n",
        "# adding custom labels for axes\n",
        "plt.ylabel(\"Class\")\n",
        "plt.xlabel(\"# of Texts\")\n",
        "\n",
        "# adding labels on data points\n",
        "for index, row in class_dist_df.iterrows():\n",
        "    plt.text(row.v2 + 150, index, row.v2, color='black', ha=\"center\", size=11)"
      ],
      "execution_count": 0,
      "outputs": [
        {
          "output_type": "display_data",
          "data": {
            "image/png": "[encoded data removed]",
            "text/plain": [
              "<Figure size 720x288 with 1 Axes>"
            ]
          },
          "metadata": {
            "tags": []
          }
        }
      ]
    },
    {
      "cell_type": "markdown",
      "metadata": {
        "id": "cDNnQ7YCZsZp",
        "colab_type": "text"
      },
      "source": [
        "## ***Data Preparation***"
      ]
    },
    {
      "cell_type": "markdown",
      "metadata": {
        "id": "kElMvZcYZ180",
        "colab_type": "text"
      },
      "source": [
        "###***Data Split - Train/Validation***"
      ]
    },
    {
      "cell_type": "code",
      "metadata": {
        "id": "S5TbQrlbaT1X",
        "colab_type": "code",
        "colab": {}
      },
      "source": [
        "work_data = raw_data[['v1', 'v2']].copy()\n",
        "work_data.rename(columns={'v1': 'Label', 'v2': 'Text'}, inplace=True)\n",
        "\n",
        "text_col = 'Text'\n",
        "target_col = 'Label'"
      ],
      "execution_count": 0,
      "outputs": []
    },
    {
      "cell_type": "code",
      "metadata": {
        "id": "1RtFTFa1aVJl",
        "colab_type": "code",
        "colab": {}
      },
      "source": [
        "def data_split(data, save_data=True, load_data=True):\n",
        "    # Data split part\n",
        "    train_data, testval_data = train_test_split(data, test_size=0.2, random_state=10, stratify=data[target_col])\n",
        "    val_data, test_data = train_test_split(testval_data, test_size=0.5, random_state=10, stratify=testval_data[target_col])\n",
        "\n",
        "    # Setting variables\n",
        "    file_contents = [train_data, val_data, test_data]\n",
        "    file_names = ['train_data.csv', 'val_data.csv', 'test_data.csv']\n",
        "\n",
        "    # Reseting indices on data\n",
        "    for contents in file_contents:\n",
        "        contents.reset_index(drop=True, inplace=True)\n",
        "\n",
        "    # Saving data to csv files\n",
        "    if save_data:\n",
        "        for name, contents in zip(file_names, file_contents):\n",
        "            contents.to_csv(path_or_buf=DATA_DIR/name, index=False, header=True)\n",
        "    \n",
        "    # Loading data from csv files\n",
        "    if load_data:\n",
        "        for name, contents in zip(file_names, file_contents):\n",
        "            contents = pd.read_csv(DATA_DIR/name, low_memory=False)\n",
        "    \n",
        "    return train_data, test_data, val_data"
      ],
      "execution_count": 0,
      "outputs": []
    },
    {
      "cell_type": "code",
      "metadata": {
        "id": "3XoShUC6cWZW",
        "colab_type": "code",
        "colab": {}
      },
      "source": [
        "train_data, test_data, val_data = data_split(work_data)"
      ],
      "execution_count": 0,
      "outputs": []
    },
    {
      "cell_type": "code",
      "metadata": {
        "id": "X8YtzTymRdl4",
        "colab_type": "code",
        "outputId": "9bd4015d-fa3c-4962-d8f1-dc19b8adcbc8",
        "colab": {
          "base_uri": "https://localhost:8080/",
          "height": 34
        }
      },
      "source": [
        "# Checking the shapes of splited data\n",
        "[x.shape for x in (train_data, val_data, test_data)]"
      ],
      "execution_count": 0,
      "outputs": [
        {
          "output_type": "execute_result",
          "data": {
            "text/plain": [
              "[(4457, 2), (557, 2), (558, 2)]"
            ]
          },
          "metadata": {
            "tags": []
          },
          "execution_count": 28
        }
      ]
    },
    {
      "cell_type": "code",
      "metadata": {
        "id": "U2tJuXWfizXk",
        "colab_type": "code",
        "outputId": "e857303a-b0bb-4c4c-c153-2cc4686e0ceb",
        "colab": {
          "base_uri": "https://localhost:8080/",
          "height": 204
        }
      },
      "source": [
        "train_data.head()"
      ],
      "execution_count": 0,
      "outputs": [
        {
          "output_type": "execute_result",
          "data": {
            "text/html": [
              "<div>\n",
              "<style scoped>\n",
              "    .dataframe tbody tr th:only-of-type {\n",
              "        vertical-align: middle;\n",
              "    }\n",
              "\n",
              "    .dataframe tbody tr th {\n",
              "        vertical-align: top;\n",
              "    }\n",
              "\n",
              "    .dataframe thead th {\n",
              "        text-align: right;\n",
              "    }\n",
              "</style>\n",
              "<table border=\"1\" class=\"dataframe\">\n",
              "  <thead>\n",
              "    <tr style=\"text-align: right;\">\n",
              "      <th></th>\n",
              "      <th>Label</th>\n",
              "      <th>Text</th>\n",
              "    </tr>\n",
              "  </thead>\n",
              "  <tbody>\n",
              "    <tr>\n",
              "      <th>0</th>\n",
              "      <td>ham</td>\n",
              "      <td>Hey pple...$700 or $900 for 5 nights...Excelle...</td>\n",
              "    </tr>\n",
              "    <tr>\n",
              "      <th>1</th>\n",
              "      <td>ham</td>\n",
              "      <td>Sorry, I can't help you on this.</td>\n",
              "    </tr>\n",
              "    <tr>\n",
              "      <th>2</th>\n",
              "      <td>ham</td>\n",
              "      <td>Aiyah e rain like quite big leh. If drizzling ...</td>\n",
              "    </tr>\n",
              "    <tr>\n",
              "      <th>3</th>\n",
              "      <td>ham</td>\n",
              "      <td>Plz note: if anyone calling from a mobile Co. ...</td>\n",
              "    </tr>\n",
              "    <tr>\n",
              "      <th>4</th>\n",
              "      <td>ham</td>\n",
              "      <td>Dont worry, 1 day very big lambu ji vl come..t...</td>\n",
              "    </tr>\n",
              "  </tbody>\n",
              "</table>\n",
              "</div>"
            ],
            "text/plain": [
              "  Label                                               Text\n",
              "0   ham  Hey pple...$700 or $900 for 5 nights...Excelle...\n",
              "1   ham                   Sorry, I can't help you on this.\n",
              "2   ham  Aiyah e rain like quite big leh. If drizzling ...\n",
              "3   ham  Plz note: if anyone calling from a mobile Co. ...\n",
              "4   ham  Dont worry, 1 day very big lambu ji vl come..t..."
            ]
          },
          "metadata": {
            "tags": []
          },
          "execution_count": 29
        }
      ]
    },
    {
      "cell_type": "markdown",
      "metadata": {
        "id": "MCq0P8MHj6WE",
        "colab_type": "text"
      },
      "source": [
        "### ***Data Preprocessing***"
      ]
    },
    {
      "cell_type": "code",
      "metadata": {
        "id": "Q--jww7Dj1cz",
        "colab_type": "code",
        "colab": {}
      },
      "source": [
        "cat_cols = ['Label']"
      ],
      "execution_count": 0,
      "outputs": []
    },
    {
      "cell_type": "code",
      "metadata": {
        "id": "uomjBPqlluqR",
        "colab_type": "code",
        "colab": {}
      },
      "source": [
        "def cats_fit_transform(df, cat_cols):\n",
        "    df = df.copy()\n",
        "    cat_features_map = {}\n",
        "    df[cat_cols] = df[cat_cols].astype('category')\n",
        "    for cat_col in cat_cols:\n",
        "        cat_features_map[cat_col] = dict(enumerate(df[cat_col].cat.categories))\n",
        "        df[cat_col] = df[cat_col].cat.codes\n",
        "    return df, cat_features_map"
      ],
      "execution_count": 0,
      "outputs": []
    },
    {
      "cell_type": "code",
      "metadata": {
        "id": "DsRxCHBGlvt5",
        "colab_type": "code",
        "colab": {}
      },
      "source": [
        "def cats_transform(df, cat_features_map):\n",
        "    df = df.copy()\n",
        "    for cat_col in cat_features_map:\n",
        "        df[cat_col] = df[cat_col].map(\n",
        "            {value: key for key, value in cat_features_map[cat_col].items()}\n",
        "        )\n",
        "        df[cat_col].fillna(value=0, inplace=True)\n",
        "        df[cat_col] = df[cat_col].astype(int)\n",
        "    return df"
      ],
      "execution_count": 0,
      "outputs": []
    },
    {
      "cell_type": "code",
      "metadata": {
        "id": "zOp3Rke-lzHJ",
        "colab_type": "code",
        "colab": {}
      },
      "source": [
        "train_data, cat_features_map = cats_fit_transform(train_data, cat_cols)"
      ],
      "execution_count": 0,
      "outputs": []
    },
    {
      "cell_type": "code",
      "metadata": {
        "id": "exJeai5omHVC",
        "colab_type": "code",
        "outputId": "d732dfa4-d94d-40d3-aaed-d43ea96bc91e",
        "colab": {
          "base_uri": "https://localhost:8080/",
          "height": 204
        }
      },
      "source": [
        "train_data.head()"
      ],
      "execution_count": 0,
      "outputs": [
        {
          "output_type": "execute_result",
          "data": {
            "text/html": [
              "<div>\n",
              "<style scoped>\n",
              "    .dataframe tbody tr th:only-of-type {\n",
              "        vertical-align: middle;\n",
              "    }\n",
              "\n",
              "    .dataframe tbody tr th {\n",
              "        vertical-align: top;\n",
              "    }\n",
              "\n",
              "    .dataframe thead th {\n",
              "        text-align: right;\n",
              "    }\n",
              "</style>\n",
              "<table border=\"1\" class=\"dataframe\">\n",
              "  <thead>\n",
              "    <tr style=\"text-align: right;\">\n",
              "      <th></th>\n",
              "      <th>Label</th>\n",
              "      <th>Text</th>\n",
              "    </tr>\n",
              "  </thead>\n",
              "  <tbody>\n",
              "    <tr>\n",
              "      <th>0</th>\n",
              "      <td>0</td>\n",
              "      <td>Hey pple...$700 or $900 for 5 nights...Excelle...</td>\n",
              "    </tr>\n",
              "    <tr>\n",
              "      <th>1</th>\n",
              "      <td>0</td>\n",
              "      <td>Sorry, I can't help you on this.</td>\n",
              "    </tr>\n",
              "    <tr>\n",
              "      <th>2</th>\n",
              "      <td>0</td>\n",
              "      <td>Aiyah e rain like quite big leh. If drizzling ...</td>\n",
              "    </tr>\n",
              "    <tr>\n",
              "      <th>3</th>\n",
              "      <td>0</td>\n",
              "      <td>Plz note: if anyone calling from a mobile Co. ...</td>\n",
              "    </tr>\n",
              "    <tr>\n",
              "      <th>4</th>\n",
              "      <td>0</td>\n",
              "      <td>Dont worry, 1 day very big lambu ji vl come..t...</td>\n",
              "    </tr>\n",
              "  </tbody>\n",
              "</table>\n",
              "</div>"
            ],
            "text/plain": [
              "   Label                                               Text\n",
              "0      0  Hey pple...$700 or $900 for 5 nights...Excelle...\n",
              "1      0                   Sorry, I can't help you on this.\n",
              "2      0  Aiyah e rain like quite big leh. If drizzling ...\n",
              "3      0  Plz note: if anyone calling from a mobile Co. ...\n",
              "4      0  Dont worry, 1 day very big lambu ji vl come..t..."
            ]
          },
          "metadata": {
            "tags": []
          },
          "execution_count": 34
        }
      ]
    },
    {
      "cell_type": "code",
      "metadata": {
        "id": "QWRikN_nLl-Q",
        "colab_type": "code",
        "outputId": "c33168c1-2a25-41e0-e086-dca48f0bfb2f",
        "colab": {
          "base_uri": "https://localhost:8080/",
          "height": 68
        }
      },
      "source": [
        "train_data.iloc[4372]"
      ],
      "execution_count": 0,
      "outputs": [
        {
          "output_type": "execute_result",
          "data": {
            "text/plain": [
              "Label      0\n",
              "Text     :) \n",
              "Name: 4372, dtype: object"
            ]
          },
          "metadata": {
            "tags": []
          },
          "execution_count": 35
        }
      ]
    },
    {
      "cell_type": "code",
      "metadata": {
        "id": "DEzQXOmrP1JH",
        "colab_type": "code",
        "colab": {}
      },
      "source": [
        "train_data = train_data.drop([4372])"
      ],
      "execution_count": 0,
      "outputs": []
    },
    {
      "cell_type": "code",
      "metadata": {
        "id": "-og_gcMKQDND",
        "colab_type": "code",
        "outputId": "aec30f00-f2ec-4ce0-9766-4e22c1adde21",
        "colab": {
          "base_uri": "https://localhost:8080/",
          "height": 68
        }
      },
      "source": [
        "train_data.iloc[4372]"
      ],
      "execution_count": 0,
      "outputs": [
        {
          "output_type": "execute_result",
          "data": {
            "text/plain": [
              "Label                                                    0\n",
              "Text     Sorry completely forgot * will pop em round th...\n",
              "Name: 4373, dtype: object"
            ]
          },
          "metadata": {
            "tags": []
          },
          "execution_count": 37
        }
      ]
    },
    {
      "cell_type": "code",
      "metadata": {
        "id": "w_Sq5YCFmLJZ",
        "colab_type": "code",
        "outputId": "18ef2d87-0f03-4fed-addf-381bb5c716ae",
        "colab": {
          "base_uri": "https://localhost:8080/",
          "height": 34
        }
      },
      "source": [
        "print(cat_features_map)"
      ],
      "execution_count": 0,
      "outputs": [
        {
          "output_type": "stream",
          "text": [
            "{'Label': {0: 'ham', 1: 'spam'}}\n"
          ],
          "name": "stdout"
        }
      ]
    },
    {
      "cell_type": "code",
      "metadata": {
        "id": "YXEplP-DwhvW",
        "colab_type": "code",
        "outputId": "d79a10c6-48e6-43c0-b029-28a90f03e5ec",
        "colab": {
          "base_uri": "https://localhost:8080/",
          "height": 34
        }
      },
      "source": [
        "classes = list(cat_features_map.get('Label').values())\n",
        "print(classes)"
      ],
      "execution_count": 0,
      "outputs": [
        {
          "output_type": "stream",
          "text": [
            "['ham', 'spam']\n"
          ],
          "name": "stdout"
        }
      ]
    },
    {
      "cell_type": "code",
      "metadata": {
        "id": "PPx_1r6zmRjP",
        "colab_type": "code",
        "colab": {}
      },
      "source": [
        "# Saving feature mapping for categorical columns into the file\n",
        "with open(MODEL_DIR/'cat_features_map.pkl', 'wb') as f:\n",
        "    pickle.dump(cat_features_map, f, pickle.HIGHEST_PROTOCOL)"
      ],
      "execution_count": 0,
      "outputs": []
    },
    {
      "cell_type": "code",
      "metadata": {
        "id": "fjNIL73rmW-q",
        "colab_type": "code",
        "colab": {}
      },
      "source": [
        "# Loading feature mapping for categorical columns from the file\n",
        "with open(MODEL_DIR/'cat_features_map.pkl', 'rb') as f:\n",
        "    cat_features_map = pickle.load(f)"
      ],
      "execution_count": 0,
      "outputs": []
    },
    {
      "cell_type": "code",
      "metadata": {
        "id": "8sX5DFtnmdIt",
        "colab_type": "code",
        "outputId": "003977d7-682d-489a-c483-2611e607821b",
        "colab": {
          "base_uri": "https://localhost:8080/",
          "height": 34
        }
      },
      "source": [
        "print(cat_features_map)"
      ],
      "execution_count": 0,
      "outputs": [
        {
          "output_type": "stream",
          "text": [
            "{'Label': {0: 'ham', 1: 'spam'}}\n"
          ],
          "name": "stdout"
        }
      ]
    },
    {
      "cell_type": "code",
      "metadata": {
        "id": "69iKuds5mh4M",
        "colab_type": "code",
        "colab": {}
      },
      "source": [
        "val_data = cats_transform(val_data, cat_features_map)"
      ],
      "execution_count": 0,
      "outputs": []
    },
    {
      "cell_type": "code",
      "metadata": {
        "id": "NKg4jOwemvo6",
        "colab_type": "code",
        "outputId": "0f1761c1-f5b1-4ed0-91c2-545ed98f50e4",
        "colab": {
          "base_uri": "https://localhost:8080/",
          "height": 204
        }
      },
      "source": [
        "val_data.head()"
      ],
      "execution_count": 0,
      "outputs": [
        {
          "output_type": "execute_result",
          "data": {
            "text/html": [
              "<div>\n",
              "<style scoped>\n",
              "    .dataframe tbody tr th:only-of-type {\n",
              "        vertical-align: middle;\n",
              "    }\n",
              "\n",
              "    .dataframe tbody tr th {\n",
              "        vertical-align: top;\n",
              "    }\n",
              "\n",
              "    .dataframe thead th {\n",
              "        text-align: right;\n",
              "    }\n",
              "</style>\n",
              "<table border=\"1\" class=\"dataframe\">\n",
              "  <thead>\n",
              "    <tr style=\"text-align: right;\">\n",
              "      <th></th>\n",
              "      <th>Label</th>\n",
              "      <th>Text</th>\n",
              "    </tr>\n",
              "  </thead>\n",
              "  <tbody>\n",
              "    <tr>\n",
              "      <th>0</th>\n",
              "      <td>0</td>\n",
              "      <td>Customer place, i wil cal u sir.</td>\n",
              "    </tr>\n",
              "    <tr>\n",
              "      <th>1</th>\n",
              "      <td>0</td>\n",
              "      <td>Hi ....My engagement has been fixd on  &amp;lt;#&amp;g...</td>\n",
              "    </tr>\n",
              "    <tr>\n",
              "      <th>2</th>\n",
              "      <td>0</td>\n",
              "      <td>Studying. But i.ll be free next weekend.</td>\n",
              "    </tr>\n",
              "    <tr>\n",
              "      <th>3</th>\n",
              "      <td>0</td>\n",
              "      <td>How come?</td>\n",
              "    </tr>\n",
              "    <tr>\n",
              "      <th>4</th>\n",
              "      <td>0</td>\n",
              "      <td>What is the plural of the noun research?</td>\n",
              "    </tr>\n",
              "  </tbody>\n",
              "</table>\n",
              "</div>"
            ],
            "text/plain": [
              "   Label                                               Text\n",
              "0      0                   Customer place, i wil cal u sir.\n",
              "1      0  Hi ....My engagement has been fixd on  &lt;#&g...\n",
              "2      0           Studying. But i.ll be free next weekend.\n",
              "3      0                                          How come?\n",
              "4      0           What is the plural of the noun research?"
            ]
          },
          "metadata": {
            "tags": []
          },
          "execution_count": 44
        }
      ]
    },
    {
      "cell_type": "code",
      "metadata": {
        "id": "4KU3bSrNtMlL",
        "colab_type": "code",
        "outputId": "137ccb24-64a6-47c6-c799-d7a0cb86b761",
        "colab": {
          "base_uri": "https://localhost:8080/",
          "height": 68
        }
      },
      "source": [
        "val_data.iloc[146]"
      ],
      "execution_count": 0,
      "outputs": [
        {
          "output_type": "execute_result",
          "data": {
            "text/plain": [
              "Label      0\n",
              "Text     645\n",
              "Name: 146, dtype: object"
            ]
          },
          "metadata": {
            "tags": []
          },
          "execution_count": 45
        }
      ]
    },
    {
      "cell_type": "code",
      "metadata": {
        "id": "lIQubscOteD_",
        "colab_type": "code",
        "colab": {}
      },
      "source": [
        "val_data = val_data.drop([146])"
      ],
      "execution_count": 0,
      "outputs": []
    },
    {
      "cell_type": "code",
      "metadata": {
        "id": "kwEPDrKbtZm8",
        "colab_type": "code",
        "outputId": "a101850c-cf88-48ec-da58-abea506c9554",
        "colab": {
          "base_uri": "https://localhost:8080/",
          "height": 68
        }
      },
      "source": [
        "val_data.iloc[146]"
      ],
      "execution_count": 0,
      "outputs": [
        {
          "output_type": "execute_result",
          "data": {
            "text/plain": [
              "Label                                                    0\n",
              "Text     If you can make it any time tonight or wheneve...\n",
              "Name: 147, dtype: object"
            ]
          },
          "metadata": {
            "tags": []
          },
          "execution_count": 47
        }
      ]
    },
    {
      "cell_type": "markdown",
      "metadata": {
        "id": "UK-Eoy2ZxChv",
        "colab_type": "text"
      },
      "source": [
        "### ***Dataset Creation***"
      ]
    },
    {
      "cell_type": "code",
      "metadata": {
        "id": "90sYLICV2E9v",
        "colab_type": "code",
        "colab": {}
      },
      "source": [
        "class_weights = dict(\n",
        "    enumerate(\n",
        "        compute_class_weight(\"balanced\", np.unique(train_data[target_col]), train_data[target_col])\n",
        "    )\n",
        ")"
      ],
      "execution_count": 0,
      "outputs": []
    },
    {
      "cell_type": "code",
      "metadata": {
        "id": "mrDA3jkm2aSs",
        "colab_type": "code",
        "outputId": "26b435b7-e8c6-4863-a60b-86b995554065",
        "colab": {
          "base_uri": "https://localhost:8080/",
          "height": 34
        }
      },
      "source": [
        "class_weights"
      ],
      "execution_count": 0,
      "outputs": [
        {
          "output_type": "execute_result",
          "data": {
            "text/plain": [
              "{0: 0.5775012960082945, 1: 3.725752508361204}"
            ]
          },
          "metadata": {
            "tags": []
          },
          "execution_count": 49
        }
      ]
    },
    {
      "cell_type": "code",
      "metadata": {
        "id": "LM9V_aqgm1vV",
        "colab_type": "code",
        "colab": {}
      },
      "source": [
        "def make_dataset(data):\n",
        "    return tf.data.Dataset.from_tensor_slices((data[text_col].values, data[target_col].values))"
      ],
      "execution_count": 0,
      "outputs": []
    },
    {
      "cell_type": "code",
      "metadata": {
        "id": "tsWs70LSx3Ce",
        "colab_type": "code",
        "colab": {}
      },
      "source": [
        "train_ds = make_dataset(train_data)\n",
        "val_ds = make_dataset(val_data)"
      ],
      "execution_count": 0,
      "outputs": []
    },
    {
      "cell_type": "code",
      "metadata": {
        "id": "2n_Un-K_ylGl",
        "colab_type": "code",
        "outputId": "a52988d8-7c1f-40bf-d8f2-f67b9af43078",
        "colab": {
          "base_uri": "https://localhost:8080/",
          "height": 51
        }
      },
      "source": [
        "for x, y in train_ds.take(1):\n",
        "    print(x)\n",
        "    print(y)"
      ],
      "execution_count": 0,
      "outputs": [
        {
          "output_type": "stream",
          "text": [
            "tf.Tensor(b'Hey pple...$700 or $900 for 5 nights...Excellent location wif breakfast hamper!!!', shape=(), dtype=string)\n",
            "tf.Tensor(0, shape=(), dtype=int8)\n"
          ],
          "name": "stdout"
        }
      ]
    },
    {
      "cell_type": "code",
      "metadata": {
        "id": "zUu6yHcj1Njr",
        "colab_type": "code",
        "colab": {}
      },
      "source": [
        "BATCH_SIZE = 32"
      ],
      "execution_count": 0,
      "outputs": []
    },
    {
      "cell_type": "code",
      "metadata": {
        "id": "NXr9yf_7RNAJ",
        "colab_type": "code",
        "colab": {}
      },
      "source": [
        "def preprocess_batch(x, y, max_length=100):\n",
        "    x = tf.strings.regex_replace(x, rb\"<br\\s*/?>\", b\" \")\n",
        "    x = tf.strings.regex_replace(x, b\"[^A-Za-z]\", b\" \")\n",
        "    x = tf.strings.split(x)\n",
        "    x = x.to_tensor(default_value=b\"<pad>\")\n",
        "    paddings = tf.constant([[0, 0], [0, max_length]])\n",
        "    x = tf.pad(x, paddings, constant_values=b\"<pad>\")\n",
        "    x = x[:, :max_length]\n",
        "    return x, y"
      ],
      "execution_count": 0,
      "outputs": []
    },
    {
      "cell_type": "code",
      "metadata": {
        "id": "dIwsyGMy4MeC",
        "colab_type": "code",
        "outputId": "11278d5b-c0c7-482f-e134-e53bcfefcbe9",
        "colab": {
          "base_uri": "https://localhost:8080/",
          "height": 306
        }
      },
      "source": [
        "for x, y in train_ds.batch(BATCH_SIZE).map(preprocess_batch).take(1):\n",
        "    print(x.shape)\n",
        "    print(y.shape)\n",
        "    print(x[7])\n",
        "    print(y[7])"
      ],
      "execution_count": 0,
      "outputs": [
        {
          "output_type": "stream",
          "text": [
            "(32, 100)\n",
            "(32,)\n",
            "tf.Tensor(\n",
            "[b'Have' b'you' b'bookedthe' b'hut' b'And' b'also' b'your' b'time' b'off'\n",
            " b'How' b'are' b'you' b'by' b'the' b'way' b'<pad>' b'<pad>' b'<pad>'\n",
            " b'<pad>' b'<pad>' b'<pad>' b'<pad>' b'<pad>' b'<pad>' b'<pad>' b'<pad>'\n",
            " b'<pad>' b'<pad>' b'<pad>' b'<pad>' b'<pad>' b'<pad>' b'<pad>' b'<pad>'\n",
            " b'<pad>' b'<pad>' b'<pad>' b'<pad>' b'<pad>' b'<pad>' b'<pad>' b'<pad>'\n",
            " b'<pad>' b'<pad>' b'<pad>' b'<pad>' b'<pad>' b'<pad>' b'<pad>' b'<pad>'\n",
            " b'<pad>' b'<pad>' b'<pad>' b'<pad>' b'<pad>' b'<pad>' b'<pad>' b'<pad>'\n",
            " b'<pad>' b'<pad>' b'<pad>' b'<pad>' b'<pad>' b'<pad>' b'<pad>' b'<pad>'\n",
            " b'<pad>' b'<pad>' b'<pad>' b'<pad>' b'<pad>' b'<pad>' b'<pad>' b'<pad>'\n",
            " b'<pad>' b'<pad>' b'<pad>' b'<pad>' b'<pad>' b'<pad>' b'<pad>' b'<pad>'\n",
            " b'<pad>' b'<pad>' b'<pad>' b'<pad>' b'<pad>' b'<pad>' b'<pad>' b'<pad>'\n",
            " b'<pad>' b'<pad>' b'<pad>' b'<pad>' b'<pad>' b'<pad>' b'<pad>' b'<pad>'\n",
            " b'<pad>' b'<pad>'], shape=(100,), dtype=string)\n",
            "tf.Tensor(0, shape=(), dtype=int8)\n"
          ],
          "name": "stdout"
        }
      ]
    },
    {
      "cell_type": "code",
      "metadata": {
        "id": "0ZjvS4L-5-Pf",
        "colab_type": "code",
        "colab": {}
      },
      "source": [
        "def make_vocabulary(dataset):\n",
        "    vocabulary = collections.Counter()\n",
        "    for x, _ in dataset.batch(BATCH_SIZE).map(preprocess_batch):\n",
        "        for review in x:\n",
        "            vocabulary.update(review.numpy().tolist())\n",
        "    return vocabulary"
      ],
      "execution_count": 0,
      "outputs": []
    },
    {
      "cell_type": "code",
      "metadata": {
        "id": "BPDJDvb57rRs",
        "colab_type": "code",
        "colab": {}
      },
      "source": [
        "vocabulary = make_vocabulary(train_ds)"
      ],
      "execution_count": 0,
      "outputs": []
    },
    {
      "cell_type": "code",
      "metadata": {
        "id": "t1VshRdK-kxg",
        "colab_type": "code",
        "outputId": "6d9f7aec-951c-49dc-eab9-cd62251b661c",
        "colab": {
          "base_uri": "https://localhost:8080/",
          "height": 187
        }
      },
      "source": [
        "vocabulary.most_common()[:10]"
      ],
      "execution_count": 0,
      "outputs": [
        {
          "output_type": "execute_result",
          "data": {
            "text/plain": [
              "[(b'<pad>', 376282),\n",
              " (b'to', 1692),\n",
              " (b'I', 1644),\n",
              " (b'you', 1531),\n",
              " (b'a', 1078),\n",
              " (b'the', 945),\n",
              " (b'i', 811),\n",
              " (b'and', 709),\n",
              " (b'in', 679),\n",
              " (b'u', 649)]"
            ]
          },
          "metadata": {
            "tags": []
          },
          "execution_count": 58
        }
      ]
    },
    {
      "cell_type": "code",
      "metadata": {
        "id": "jBSkVz0a-6uk",
        "colab_type": "code",
        "outputId": "8062e797-d256-49e7-874c-3edbecde1364",
        "colab": {
          "base_uri": "https://localhost:8080/",
          "height": 34
        }
      },
      "source": [
        "VOCABULARY_SIZE = min(len(vocabulary), 10000)\n",
        "VOCABULARY_SIZE"
      ],
      "execution_count": 0,
      "outputs": [
        {
          "output_type": "execute_result",
          "data": {
            "text/plain": [
              "8646"
            ]
          },
          "metadata": {
            "tags": []
          },
          "execution_count": 59
        }
      ]
    },
    {
      "cell_type": "code",
      "metadata": {
        "id": "UG-vLUu-_LwR",
        "colab_type": "code",
        "colab": {}
      },
      "source": [
        "word_to_id = {word: index for index, word in enumerate(vocabulary)}"
      ],
      "execution_count": 0,
      "outputs": []
    },
    {
      "cell_type": "code",
      "metadata": {
        "id": "r06H55Jr_kG7",
        "colab_type": "code",
        "outputId": "f44009aa-3795-482b-cce6-21d42d79474e",
        "colab": {
          "base_uri": "https://localhost:8080/",
          "height": 102
        }
      },
      "source": [
        "for word in b\"This movie is about AI\".split():\n",
        "    print(word_to_id.get(word) or 'Not available')"
      ],
      "execution_count": 0,
      "outputs": [
        {
          "output_type": "stream",
          "text": [
            "932\n",
            "2293\n",
            "98\n",
            "1283\n",
            "Not available\n"
          ],
          "name": "stdout"
        }
      ]
    },
    {
      "cell_type": "code",
      "metadata": {
        "id": "pZNNjhAcBCBT",
        "colab_type": "code",
        "colab": {}
      },
      "source": [
        "vocabulary = [word for word, count in vocabulary.most_common()]"
      ],
      "execution_count": 0,
      "outputs": []
    },
    {
      "cell_type": "code",
      "metadata": {
        "id": "8AgK9S9I_wgn",
        "colab_type": "code",
        "colab": {}
      },
      "source": [
        "words = tf.constant(vocabulary)"
      ],
      "execution_count": 0,
      "outputs": []
    },
    {
      "cell_type": "code",
      "metadata": {
        "id": "u7QPcCmFARjk",
        "colab_type": "code",
        "colab": {}
      },
      "source": [
        "word_ids = tf.range(len(vocabulary), dtype=tf.int64)"
      ],
      "execution_count": 0,
      "outputs": []
    },
    {
      "cell_type": "code",
      "metadata": {
        "id": "x7FgDOkQAt8i",
        "colab_type": "code",
        "colab": {}
      },
      "source": [
        "vocab_init = tf.lookup.KeyValueTensorInitializer(words, word_ids)"
      ],
      "execution_count": 0,
      "outputs": []
    },
    {
      "cell_type": "code",
      "metadata": {
        "id": "LqWnve4xBTf7",
        "colab_type": "code",
        "outputId": "c3746fed-9bac-435b-d88c-d763fc581983",
        "colab": {
          "base_uri": "https://localhost:8080/",
          "height": 34
        }
      },
      "source": [
        "n_oov_buckets = VOCABULARY_SIZE // 10\n",
        "n_oov_buckets"
      ],
      "execution_count": 0,
      "outputs": [
        {
          "output_type": "execute_result",
          "data": {
            "text/plain": [
              "864"
            ]
          },
          "metadata": {
            "tags": []
          },
          "execution_count": 66
        }
      ]
    },
    {
      "cell_type": "code",
      "metadata": {
        "id": "pqNyAv14Bwqm",
        "colab_type": "code",
        "colab": {}
      },
      "source": [
        "table = tf.lookup.StaticVocabularyTable(vocab_init, n_oov_buckets)"
      ],
      "execution_count": 0,
      "outputs": []
    },
    {
      "cell_type": "code",
      "metadata": {
        "id": "OaWAlEP3B-Ac",
        "colab_type": "code",
        "outputId": "760bdf63-453e-4b6d-8207-52d7d936acc8",
        "colab": {
          "base_uri": "https://localhost:8080/",
          "height": 34
        }
      },
      "source": [
        "table.lookup(tf.constant([b\"This movie is about AI\".split()]))"
      ],
      "execution_count": 0,
      "outputs": [
        {
          "output_type": "execute_result",
          "data": {
            "text/plain": [
              "<tf.Tensor: id=18394, shape=(1, 5), dtype=int64, numpy=array([[ 176,  577,   10,   80, 8838]])>"
            ]
          },
          "metadata": {
            "tags": []
          },
          "execution_count": 68
        }
      ]
    },
    {
      "cell_type": "code",
      "metadata": {
        "id": "wOZ6mOxBCEMC",
        "colab_type": "code",
        "colab": {}
      },
      "source": [
        "def encode_words(x, y):\n",
        "    return table.lookup(x), y"
      ],
      "execution_count": 0,
      "outputs": []
    },
    {
      "cell_type": "code",
      "metadata": {
        "id": "-BIe9RY-CNE_",
        "colab_type": "code",
        "colab": {}
      },
      "source": [
        "def encode_categories(x, y):\n",
        "    return table.lookup(x), y"
      ],
      "execution_count": 0,
      "outputs": []
    },
    {
      "cell_type": "code",
      "metadata": {
        "id": "LAxY6EISCRRX",
        "colab_type": "code",
        "colab": {}
      },
      "source": [
        "train_dataset = (\n",
        "    train_ds.repeat()\n",
        "    .batch(BATCH_SIZE, drop_remainder=True)\n",
        "    .map(preprocess_batch)\n",
        "    .map(encode_words)\n",
        "    .prefetch(1)\n",
        ")"
      ],
      "execution_count": 0,
      "outputs": []
    },
    {
      "cell_type": "code",
      "metadata": {
        "id": "1SjuPO6iCf5Z",
        "colab_type": "code",
        "colab": {}
      },
      "source": [
        "val_dataset = (\n",
        "    val_ds.batch(BATCH_SIZE, drop_remainder=True)\n",
        "    .map(preprocess_batch)\n",
        "    .map(encode_words)\n",
        ")"
      ],
      "execution_count": 0,
      "outputs": []
    },
    {
      "cell_type": "code",
      "metadata": {
        "id": "uh6vt03hCnhE",
        "colab_type": "code",
        "outputId": "c6b277ab-daab-47b6-8abb-b26f68af3c99",
        "colab": {
          "base_uri": "https://localhost:8080/",
          "height": 221
        }
      },
      "source": [
        "for x, y in train_dataset.take(1):\n",
        "    print(x.shape)\n",
        "    print(y.shape)\n",
        "    print(x[0])\n",
        "    print(y[0])"
      ],
      "execution_count": 0,
      "outputs": [
        {
          "output_type": "stream",
          "text": [
            "(32, 100)\n",
            "(32,)\n",
            "tf.Tensor(\n",
            "[ 131 1770   28   12 1539 1329 4201  503 4202 4203    0    0    0    0\n",
            "    0    0    0    0    0    0    0    0    0    0    0    0    0    0\n",
            "    0    0    0    0    0    0    0    0    0    0    0    0    0    0\n",
            "    0    0    0    0    0    0    0    0    0    0    0    0    0    0\n",
            "    0    0    0    0    0    0    0    0    0    0    0    0    0    0\n",
            "    0    0    0    0    0    0    0    0    0    0    0    0    0    0\n",
            "    0    0    0    0    0    0    0    0    0    0    0    0    0    0\n",
            "    0    0], shape=(100,), dtype=int64)\n",
            "tf.Tensor(0, shape=(), dtype=int8)\n"
          ],
          "name": "stdout"
        }
      ]
    },
    {
      "cell_type": "code",
      "metadata": {
        "id": "liawa0K3C2Wv",
        "colab_type": "code",
        "outputId": "ee04cf7a-2779-4a92-badb-99bc8fccd4d1",
        "colab": {
          "base_uri": "https://localhost:8080/",
          "height": 221
        }
      },
      "source": [
        "for x, y in val_dataset.take(1):\n",
        "    print(x.shape)\n",
        "    print(y.shape)\n",
        "    print(x[0])\n",
        "    print(y[0])"
      ],
      "execution_count": 0,
      "outputs": [
        {
          "output_type": "stream",
          "text": [
            "(32, 100)\n",
            "(32,)\n",
            "tf.Tensor(\n",
            "[ 748  221    6  872 3429    9  873    0    0    0    0    0    0    0\n",
            "    0    0    0    0    0    0    0    0    0    0    0    0    0    0\n",
            "    0    0    0    0    0    0    0    0    0    0    0    0    0    0\n",
            "    0    0    0    0    0    0    0    0    0    0    0    0    0    0\n",
            "    0    0    0    0    0    0    0    0    0    0    0    0    0    0\n",
            "    0    0    0    0    0    0    0    0    0    0    0    0    0    0\n",
            "    0    0    0    0    0    0    0    0    0    0    0    0    0    0\n",
            "    0    0], shape=(100,), dtype=int64)\n",
            "tf.Tensor(0, shape=(), dtype=int64)\n"
          ],
          "name": "stdout"
        }
      ]
    },
    {
      "cell_type": "code",
      "metadata": {
        "id": "Uwd_9_P-C7sk",
        "colab_type": "code",
        "colab": {}
      },
      "source": [
        "train_dataset_steps = len(train_data) // BATCH_SIZE\n",
        "val_dataset_steps = len(val_data) // BATCH_SIZE"
      ],
      "execution_count": 0,
      "outputs": []
    },
    {
      "cell_type": "markdown",
      "metadata": {
        "id": "Uoz3e_uiS2lR",
        "colab_type": "text"
      },
      "source": [
        "## ***Exploring Different Model Architectures***"
      ]
    },
    {
      "cell_type": "markdown",
      "metadata": {
        "id": "4nTvb_BaTiDi",
        "colab_type": "text"
      },
      "source": [
        "### ***Utilities***"
      ]
    },
    {
      "cell_type": "code",
      "metadata": {
        "id": "-CCoLvGocBx3",
        "colab_type": "code",
        "colab": {}
      },
      "source": [
        "def plot_history(history, contains, skip=0):\n",
        "    _, ax = plt.subplots(1, len(contains), figsize=(20, 5))\n",
        "\n",
        "    df = pd.DataFrame(history.history)\n",
        "    for idx, item in enumerate(contains):\n",
        "        ax[idx].plot(df[list(df.filter(regex=item))].iloc[skip:])\n",
        "        ax[idx].set_title(item)"
      ],
      "execution_count": 0,
      "outputs": []
    },
    {
      "cell_type": "code",
      "metadata": {
        "id": "qQbg3cAdvQY5",
        "colab_type": "code",
        "colab": {}
      },
      "source": [
        "def model_predict(model, dataset, step):\n",
        "    preds = model.predict(dataset, steps=step)\n",
        "    labels = np.concatenate([\n",
        "        y.numpy() for _, y in dataset.take(step)\n",
        "    ])\n",
        "    return preds, labels"
      ],
      "execution_count": 0,
      "outputs": []
    },
    {
      "cell_type": "code",
      "metadata": {
        "id": "eJFfVWkx4DIb",
        "colab_type": "code",
        "colab": {}
      },
      "source": [
        "# Evaluating models\n",
        "def model_evaluate(labels, preds, n_classes):\n",
        "    \n",
        "    # Proccessing predictions\n",
        "    if n_classes > 2:\n",
        "        preds = preds.argmax(axis=1)\n",
        "    else:\n",
        "        preds = preds > 0.5\n",
        "\n",
        "    # Evaluating model\n",
        "    model_prec = precision_score(labels, preds, average='weighted')\n",
        "    model_accu = accuracy_score(labels, preds)\n",
        "    model_f1 = f1_score(labels, preds, average='macro')\n",
        "    \n",
        "    return model_prec, model_accu, model_f1"
      ],
      "execution_count": 0,
      "outputs": []
    },
    {
      "cell_type": "code",
      "metadata": {
        "id": "70sbkS8OU2KB",
        "colab_type": "code",
        "colab": {}
      },
      "source": [
        "def save_nn_model(model, architecture_path, weights_path):\n",
        "    model.save_weights(weights_path)\n",
        "    with open(architecture_path, \"w\") as f:\n",
        "        f.write(model.to_json())"
      ],
      "execution_count": 0,
      "outputs": []
    },
    {
      "cell_type": "code",
      "metadata": {
        "id": "i7P5yHxcU7Aj",
        "colab_type": "code",
        "colab": {}
      },
      "source": [
        "def load_nn_model(architecture_path, weights_path):\n",
        "    with open(architecture_path, \"r\") as f:\n",
        "        model = keras.models.model_from_json(f.read())\n",
        "    model.load_weights(weights_path)\n",
        "    return model"
      ],
      "execution_count": 0,
      "outputs": []
    },
    {
      "cell_type": "code",
      "metadata": {
        "id": "L1o2FwtiIbGC",
        "colab_type": "code",
        "colab": {}
      },
      "source": [
        "callbacks=[\n",
        "    keras.callbacks.ReduceLROnPlateau(patience=4, factor=0.3),\n",
        "    keras.callbacks.EarlyStopping(patience=10, restore_best_weights=True),\n",
        "]"
      ],
      "execution_count": 0,
      "outputs": []
    },
    {
      "cell_type": "code",
      "metadata": {
        "id": "OW6rliLvWlkm",
        "colab_type": "code",
        "colab": {}
      },
      "source": [
        "# Preparing to capture models & metrics\n",
        "model_metrics = pd.DataFrame(columns=['Precision', 'Accuracy', 'F1 score', 'Error'])"
      ],
      "execution_count": 0,
      "outputs": []
    },
    {
      "cell_type": "markdown",
      "metadata": {
        "id": "-E_IrFjvUt_M",
        "colab_type": "text"
      },
      "source": [
        "### ***RNN Model - Bidirectional LSTM***"
      ]
    },
    {
      "cell_type": "code",
      "metadata": {
        "id": "XfqcgW-pb2l3",
        "colab_type": "code",
        "colab": {}
      },
      "source": [
        "def make_lstm_model(\n",
        "    n_categories,\n",
        "    embedding_size,\n",
        "    lstm_size,\n",
        "    lstm_dropout,\n",
        "    dropout,\n",
        "    l1,\n",
        "    l2,\n",
        "):\n",
        "    input_layer = keras.layers.Input(shape=[None])\n",
        "    mask = keras.layers.Lambda(lambda inputs: keras.backend.not_equal(inputs, 0))(input_layer)\n",
        "    embedding_layer = keras.layers.Embedding(VOCABULARY_SIZE + n_oov_buckets, embedding_size)(input_layer)\n",
        "\n",
        "    lstm1_layer = keras.layers.Bidirectional(\n",
        "        keras.layers.LSTM(lstm_size, dropout=lstm_dropout, return_sequences=True)\n",
        "    )(embedding_layer, mask=mask)\n",
        "\n",
        "    lstm2_layer = keras.layers.Bidirectional(\n",
        "        keras.layers.LSTM(lstm_size, dropout=lstm_dropout, return_sequences=True)\n",
        "    )(lstm1_layer, mask=mask)\n",
        "\n",
        "    max_pool_layer = keras.layers.GlobalMaxPool1D()(lstm2_layer)\n",
        "    batch_norm_layer = keras.layers.BatchNormalization()(max_pool_layer)\n",
        "    dropout_layer = keras.layers.Dropout(dropout)(batch_norm_layer)\n",
        "\n",
        "    output_layer = keras.layers.Dense(\n",
        "        n_categories,\n",
        "        kernel_regularizer=keras.regularizers.l1_l2(l1, l2),\n",
        "        activation=keras.activations.sigmoid,\n",
        "    )(dropout_layer)\n",
        "\n",
        "    return keras.Model(inputs=input_layer, outputs=output_layer)"
      ],
      "execution_count": 0,
      "outputs": []
    },
    {
      "cell_type": "code",
      "metadata": {
        "id": "eshYN45VEyAQ",
        "colab_type": "code",
        "colab": {}
      },
      "source": [
        "model = make_lstm_model(\n",
        "    n_categories=n_classes-1,\n",
        "    embedding_size=64,\n",
        "    lstm_size=64,\n",
        "    lstm_dropout=0.4,\n",
        "    dropout=0.5,\n",
        "    l1=1e-4,\n",
        "    l2=1e-6,\n",
        ")"
      ],
      "execution_count": 0,
      "outputs": []
    },
    {
      "cell_type": "code",
      "metadata": {
        "id": "8yn2ZkhxF4Cn",
        "colab_type": "code",
        "colab": {}
      },
      "source": [
        "model.compile(\n",
        "    loss=keras.losses.binary_crossentropy,\n",
        "    optimizer=keras.optimizers.Adam(lr=3e-4),\n",
        "    metrics=[\n",
        "        keras.metrics.binary_accuracy,\n",
        "    ],\n",
        ")"
      ],
      "execution_count": 0,
      "outputs": []
    },
    {
      "cell_type": "code",
      "metadata": {
        "id": "aHNfbVS1GeTX",
        "colab_type": "code",
        "outputId": "bf6c779b-880b-4876-8e04-2a51046991e4",
        "colab": {
          "base_uri": "https://localhost:8080/",
          "height": 459
        }
      },
      "source": [
        "model.summary()"
      ],
      "execution_count": 0,
      "outputs": [
        {
          "output_type": "stream",
          "text": [
            "Model: \"model\"\n",
            "__________________________________________________________________________________________________\n",
            "Layer (type)                    Output Shape         Param #     Connected to                     \n",
            "==================================================================================================\n",
            "input_1 (InputLayer)            [(None, None)]       0                                            \n",
            "__________________________________________________________________________________________________\n",
            "embedding (Embedding)           (None, None, 64)     608640      input_1[0][0]                    \n",
            "__________________________________________________________________________________________________\n",
            "lambda (Lambda)                 (None, None)         0           input_1[0][0]                    \n",
            "__________________________________________________________________________________________________\n",
            "bidirectional (Bidirectional)   (None, None, 128)    66048       embedding[0][0]                  \n",
            "__________________________________________________________________________________________________\n",
            "bidirectional_1 (Bidirectional) (None, None, 128)    98816       bidirectional[0][0]              \n",
            "__________________________________________________________________________________________________\n",
            "global_max_pooling1d (GlobalMax (None, 128)          0           bidirectional_1[0][0]            \n",
            "__________________________________________________________________________________________________\n",
            "batch_normalization (BatchNorma (None, 128)          512         global_max_pooling1d[0][0]       \n",
            "__________________________________________________________________________________________________\n",
            "dropout (Dropout)               (None, 128)          0           batch_normalization[0][0]        \n",
            "__________________________________________________________________________________________________\n",
            "dense (Dense)                   (None, 1)            129         dropout[0][0]                    \n",
            "==================================================================================================\n",
            "Total params: 774,145\n",
            "Trainable params: 773,889\n",
            "Non-trainable params: 256\n",
            "__________________________________________________________________________________________________\n"
          ],
          "name": "stdout"
        }
      ]
    },
    {
      "cell_type": "code",
      "metadata": {
        "id": "SyzdaBsyGhte",
        "colab_type": "code",
        "outputId": "3cc11aad-879f-432b-947b-0f0e1d9fc1aa",
        "colab": {
          "base_uri": "https://localhost:8080/",
          "height": 544
        }
      },
      "source": [
        "history = model.fit(\n",
        "    x=train_dataset,\n",
        "    steps_per_epoch=train_dataset_steps,\n",
        "    validation_data=val_dataset,\n",
        "    validation_steps=val_dataset_steps,\n",
        "    epochs=20,\n",
        "    callbacks=callbacks,\n",
        "    class_weight=class_weights,\n",
        "    verbose=1\n",
        ")"
      ],
      "execution_count": 0,
      "outputs": [
        {
          "output_type": "stream",
          "text": [
            "Train for 139 steps, validate for 17 steps\n",
            "Epoch 1/20\n",
            "139/139 [==============================] - 27s 193ms/step - loss: 0.4547 - binary_accuracy: 0.8161 - val_loss: 0.4060 - val_binary_accuracy: 0.9743\n",
            "Epoch 2/20\n",
            "139/139 [==============================] - 6s 42ms/step - loss: 0.1097 - binary_accuracy: 0.9807 - val_loss: 0.1637 - val_binary_accuracy: 0.9688\n",
            "Epoch 3/20\n",
            "139/139 [==============================] - 6s 41ms/step - loss: 0.0744 - binary_accuracy: 0.9867 - val_loss: 0.0927 - val_binary_accuracy: 0.9798\n",
            "Epoch 4/20\n",
            "139/139 [==============================] - 6s 42ms/step - loss: 0.0488 - binary_accuracy: 0.9919 - val_loss: 0.0967 - val_binary_accuracy: 0.9779\n",
            "Epoch 5/20\n",
            "139/139 [==============================] - 6s 42ms/step - loss: 0.0355 - binary_accuracy: 0.9942 - val_loss: 0.0497 - val_binary_accuracy: 0.9890\n",
            "Epoch 6/20\n",
            "139/139 [==============================] - 6s 40ms/step - loss: 0.0256 - binary_accuracy: 0.9962 - val_loss: 0.0576 - val_binary_accuracy: 0.9853\n",
            "Epoch 7/20\n",
            "139/139 [==============================] - 6s 41ms/step - loss: 0.0235 - binary_accuracy: 0.9966 - val_loss: 0.0729 - val_binary_accuracy: 0.9853\n",
            "Epoch 8/20\n",
            "139/139 [==============================] - 6s 41ms/step - loss: 0.0165 - binary_accuracy: 0.9987 - val_loss: 0.0560 - val_binary_accuracy: 0.9890\n",
            "Epoch 9/20\n",
            "139/139 [==============================] - 6s 40ms/step - loss: 0.0115 - binary_accuracy: 0.9987 - val_loss: 0.0589 - val_binary_accuracy: 0.9890\n",
            "Epoch 10/20\n",
            "139/139 [==============================] - 6s 40ms/step - loss: 0.0132 - binary_accuracy: 0.9987 - val_loss: 0.0561 - val_binary_accuracy: 0.9890\n",
            "Epoch 11/20\n",
            "139/139 [==============================] - 6s 40ms/step - loss: 0.0125 - binary_accuracy: 0.9984 - val_loss: 0.0638 - val_binary_accuracy: 0.9890\n",
            "Epoch 12/20\n",
            "139/139 [==============================] - 6s 40ms/step - loss: 0.0119 - binary_accuracy: 0.9989 - val_loss: 0.0539 - val_binary_accuracy: 0.9871\n",
            "Epoch 13/20\n",
            "139/139 [==============================] - 6s 40ms/step - loss: 0.0088 - binary_accuracy: 0.9989 - val_loss: 0.0541 - val_binary_accuracy: 0.9890\n",
            "Epoch 14/20\n",
            "139/139 [==============================] - 6s 41ms/step - loss: 0.0106 - binary_accuracy: 0.9991 - val_loss: 0.0545 - val_binary_accuracy: 0.9890\n",
            "Epoch 15/20\n",
            "139/139 [==============================] - 6s 42ms/step - loss: 0.0101 - binary_accuracy: 0.9991 - val_loss: 0.0553 - val_binary_accuracy: 0.9871\n"
          ],
          "name": "stdout"
        }
      ]
    },
    {
      "cell_type": "code",
      "metadata": {
        "id": "-tRwzW75gXn2",
        "colab_type": "code",
        "outputId": "c8268e34-e2af-4d89-f892-2928be1bb6e2",
        "colab": {
          "base_uri": "https://localhost:8080/",
          "height": 338
        }
      },
      "source": [
        "plot_history(history, ['acc', 'loss', 'lr'])"
      ],
      "execution_count": 0,
      "outputs": [
        {
          "output_type": "display_data",
          "data": {
            "image/png": "[encoded data removed]",
            "text/plain": [
              "<Figure size 1440x360 with 3 Axes>"
            ]
          },
          "metadata": {
            "tags": []
          }
        }
      ]
    },
    {
      "cell_type": "code",
      "metadata": {
        "id": "2Urec55PukT9",
        "colab_type": "code",
        "outputId": "72d2cc1b-2bfd-4dc3-ac3a-867a08bc83bb",
        "colab": {
          "base_uri": "https://localhost:8080/",
          "height": 51
        }
      },
      "source": [
        "model.evaluate(val_dataset, steps=val_dataset_steps)"
      ],
      "execution_count": 0,
      "outputs": [
        {
          "output_type": "stream",
          "text": [
            "17/17 [==============================] - 0s 14ms/step - loss: 0.0497 - binary_accuracy: 0.9890\n"
          ],
          "name": "stdout"
        },
        {
          "output_type": "execute_result",
          "data": {
            "text/plain": [
              "[0.04966165908776662, 0.9889706]"
            ]
          },
          "metadata": {
            "tags": []
          },
          "execution_count": 89
        }
      ]
    },
    {
      "cell_type": "code",
      "metadata": {
        "id": "jajMLVaf3VJc",
        "colab_type": "code",
        "colab": {}
      },
      "source": [
        "model_name = 'RNN_LSTM_BiDir'\n",
        "architecture_path = str(Path(MODEL_DIR/f'{model_name}_weights.h5'))\n",
        "weights_path = str(Path(MODEL_DIR/f'{model_name}_arch.json'))"
      ],
      "execution_count": 0,
      "outputs": []
    },
    {
      "cell_type": "code",
      "metadata": {
        "id": "TuL_f5e13jmB",
        "colab_type": "code",
        "colab": {}
      },
      "source": [
        "save_nn_model(model, architecture_path, weights_path)"
      ],
      "execution_count": 0,
      "outputs": []
    },
    {
      "cell_type": "code",
      "metadata": {
        "id": "4EAAnkaL3sAB",
        "colab_type": "code",
        "colab": {}
      },
      "source": [
        "del model"
      ],
      "execution_count": 0,
      "outputs": []
    },
    {
      "cell_type": "code",
      "metadata": {
        "id": "lwDaSjYt3oGm",
        "colab_type": "code",
        "colab": {}
      },
      "source": [
        "loaded_model = load_nn_model(architecture_path, weights_path)"
      ],
      "execution_count": 0,
      "outputs": []
    },
    {
      "cell_type": "code",
      "metadata": {
        "id": "O6xbRgFctVPM",
        "colab_type": "code",
        "colab": {}
      },
      "source": [
        "val_predictions, val_labels = model_predict(loaded_model, val_dataset, step=val_dataset_steps)"
      ],
      "execution_count": 0,
      "outputs": []
    },
    {
      "cell_type": "code",
      "metadata": {
        "id": "hwBnOl7iu2G5",
        "colab_type": "code",
        "outputId": "39eea36d-dd75-4f2d-b5f3-b56948b2f883",
        "colab": {
          "base_uri": "https://localhost:8080/",
          "height": 539
        }
      },
      "source": [
        "model_report(val_labels, val_predictions, n_classes, classes, all_metrics=True)"
      ],
      "execution_count": 0,
      "outputs": [
        {
          "output_type": "stream",
          "text": [
            "Precision score: 98.91%\n",
            "Accuracy score: 98.90%\n",
            "F1 score: 97.51%\n",
            "\n",
            "Classification Report:\n",
            "              precision    recall  f1-score   support\n",
            "\n",
            "           0       0.99      1.00      0.99       472\n",
            "           1       1.00      0.92      0.96        72\n",
            "\n",
            "    accuracy                           0.99       544\n",
            "   macro avg       0.99      0.96      0.98       544\n",
            "weighted avg       0.99      0.99      0.99       544\n",
            "\n"
          ],
          "name": "stdout"
        },
        {
          "output_type": "display_data",
          "data": {
            "image/png": "[encoded data removed]",
            "text/plain": [
              "<Figure size 432x288 with 1 Axes>"
            ]
          },
          "metadata": {
            "tags": []
          }
        }
      ]
    },
    {
      "cell_type": "code",
      "metadata": {
        "id": "pKwpGLc03MHF",
        "colab_type": "code",
        "colab": {}
      },
      "source": [
        "model_name = 'RNN - LSTM Bidirectional'\n",
        "model_prec, model_accu, model_f1 = model_evaluate(val_labels, val_predictions, n_classes)\n",
        "model_metrics.loc[model_name, 'Precision'] = model_prec\n",
        "model_metrics.loc[model_name, 'Accuracy'] = model_accu\n",
        "model_metrics.loc[model_name, 'F1 score'] = model_f1\n",
        "model_metrics.loc[model_name, 'Error'] = 1 - model_f1"
      ],
      "execution_count": 0,
      "outputs": []
    },
    {
      "cell_type": "code",
      "metadata": {
        "id": "zuJ6SH2sxkW1",
        "colab_type": "code",
        "colab": {}
      },
      "source": [
        "del loaded_model"
      ],
      "execution_count": 0,
      "outputs": []
    },
    {
      "cell_type": "markdown",
      "metadata": {
        "id": "6itstkQcXmY0",
        "colab_type": "text"
      },
      "source": [
        "### ***RNN Model - Bidirectional GRU***"
      ]
    },
    {
      "cell_type": "code",
      "metadata": {
        "id": "S98RAJT3XorK",
        "colab_type": "code",
        "colab": {}
      },
      "source": [
        "def make_gru_model(\n",
        "    n_categories,\n",
        "    embedding_size,\n",
        "    gru_size,\n",
        "    gru_dropout,\n",
        "    dropout,\n",
        "    l1,\n",
        "    l2,\n",
        "):\n",
        "    input_layer = keras.layers.Input(shape=[None])\n",
        "    mask = keras.layers.Lambda(lambda inputs: keras.backend.not_equal(inputs, 0))(input_layer)\n",
        "    embedding_layer = keras.layers.Embedding(VOCABULARY_SIZE + n_oov_buckets, embedding_size)(input_layer)\n",
        "\n",
        "    gru1_layer = keras.layers.Bidirectional(\n",
        "        keras.layers.GRU(gru_size, dropout=gru_dropout, return_sequences=True)\n",
        "    )(embedding_layer, mask=mask)\n",
        "\n",
        "    gru2_layer = keras.layers.Bidirectional(\n",
        "        keras.layers.GRU(gru_size, dropout=gru_dropout, return_sequences=True)\n",
        "    )(gru1_layer, mask=mask)\n",
        "\n",
        "    max_pool_layer = keras.layers.GlobalMaxPool1D()(gru2_layer)\n",
        "    batch_norm_layer = keras.layers.BatchNormalization()(max_pool_layer)\n",
        "    dropout_layer = keras.layers.Dropout(dropout)(batch_norm_layer)\n",
        "\n",
        "    output_layer = keras.layers.Dense(\n",
        "        n_categories,\n",
        "        kernel_regularizer=keras.regularizers.l1_l2(l1, l2),\n",
        "        activation=keras.activations.sigmoid,\n",
        "    )(dropout_layer)\n",
        "\n",
        "    return keras.Model(inputs=input_layer, outputs=output_layer)"
      ],
      "execution_count": 0,
      "outputs": []
    },
    {
      "cell_type": "code",
      "metadata": {
        "id": "E5Vn1pNCYF6z",
        "colab_type": "code",
        "colab": {}
      },
      "source": [
        "model = make_gru_model(\n",
        "    n_categories=n_classes-1,\n",
        "    embedding_size=64,\n",
        "    gru_size=64,\n",
        "    gru_dropout=0.4,\n",
        "    dropout=0.5,\n",
        "    l1=1e-4,\n",
        "    l2=1e-6,\n",
        ")"
      ],
      "execution_count": 0,
      "outputs": []
    },
    {
      "cell_type": "code",
      "metadata": {
        "id": "HLxD5DUtYQEy",
        "colab_type": "code",
        "colab": {}
      },
      "source": [
        "model.compile(\n",
        "    loss=keras.losses.binary_crossentropy,\n",
        "    optimizer=keras.optimizers.Adam(lr=3e-4),\n",
        "    metrics=[\n",
        "        keras.metrics.binary_accuracy,\n",
        "    ],\n",
        ")"
      ],
      "execution_count": 0,
      "outputs": []
    },
    {
      "cell_type": "code",
      "metadata": {
        "id": "ItpoaUOtYXrx",
        "colab_type": "code",
        "outputId": "a1a3c20f-d49f-44fa-a7e5-83952858a37a",
        "colab": {
          "base_uri": "https://localhost:8080/",
          "height": 459
        }
      },
      "source": [
        "model.summary()"
      ],
      "execution_count": 0,
      "outputs": [
        {
          "output_type": "stream",
          "text": [
            "Model: \"model_1\"\n",
            "__________________________________________________________________________________________________\n",
            "Layer (type)                    Output Shape         Param #     Connected to                     \n",
            "==================================================================================================\n",
            "input_2 (InputLayer)            [(None, None)]       0                                            \n",
            "__________________________________________________________________________________________________\n",
            "embedding_1 (Embedding)         (None, None, 64)     608640      input_2[0][0]                    \n",
            "__________________________________________________________________________________________________\n",
            "lambda_1 (Lambda)               (None, None)         0           input_2[0][0]                    \n",
            "__________________________________________________________________________________________________\n",
            "bidirectional_2 (Bidirectional) (None, None, 128)    49920       embedding_1[0][0]                \n",
            "__________________________________________________________________________________________________\n",
            "bidirectional_3 (Bidirectional) (None, None, 128)    74496       bidirectional_2[0][0]            \n",
            "__________________________________________________________________________________________________\n",
            "global_max_pooling1d_1 (GlobalM (None, 128)          0           bidirectional_3[0][0]            \n",
            "__________________________________________________________________________________________________\n",
            "batch_normalization_1 (BatchNor (None, 128)          512         global_max_pooling1d_1[0][0]     \n",
            "__________________________________________________________________________________________________\n",
            "dropout_1 (Dropout)             (None, 128)          0           batch_normalization_1[0][0]      \n",
            "__________________________________________________________________________________________________\n",
            "dense_1 (Dense)                 (None, 1)            129         dropout_1[0][0]                  \n",
            "==================================================================================================\n",
            "Total params: 733,697\n",
            "Trainable params: 733,441\n",
            "Non-trainable params: 256\n",
            "__________________________________________________________________________________________________\n"
          ],
          "name": "stdout"
        }
      ]
    },
    {
      "cell_type": "code",
      "metadata": {
        "id": "vP6mhDXZYbwj",
        "colab_type": "code",
        "outputId": "91a1a079-d3f7-4f48-f94c-4f3aec184fe8",
        "colab": {
          "base_uri": "https://localhost:8080/",
          "height": 680
        }
      },
      "source": [
        "history = model.fit(\n",
        "    x=train_dataset,\n",
        "    steps_per_epoch=train_dataset_steps,\n",
        "    validation_data=val_dataset,\n",
        "    validation_steps=val_dataset_steps,\n",
        "    epochs=20,\n",
        "    callbacks=callbacks,\n",
        "    class_weight=class_weights,\n",
        "    verbose=1\n",
        ")"
      ],
      "execution_count": 0,
      "outputs": [
        {
          "output_type": "stream",
          "text": [
            "Train for 139 steps, validate for 17 steps\n",
            "Epoch 1/20\n",
            "139/139 [==============================] - 23s 168ms/step - loss: 0.5534 - binary_accuracy: 0.7352 - val_loss: 0.5073 - val_binary_accuracy: 0.8676\n",
            "Epoch 2/20\n",
            "139/139 [==============================] - 5s 38ms/step - loss: 0.2644 - binary_accuracy: 0.9308 - val_loss: 0.3168 - val_binary_accuracy: 0.9246\n",
            "Epoch 3/20\n",
            "139/139 [==============================] - 5s 38ms/step - loss: 0.0908 - binary_accuracy: 0.9827 - val_loss: 0.1149 - val_binary_accuracy: 0.9779\n",
            "Epoch 4/20\n",
            "139/139 [==============================] - 5s 38ms/step - loss: 0.0471 - binary_accuracy: 0.9897 - val_loss: 0.0777 - val_binary_accuracy: 0.9779\n",
            "Epoch 5/20\n",
            "139/139 [==============================] - 5s 39ms/step - loss: 0.0344 - binary_accuracy: 0.9942 - val_loss: 0.0637 - val_binary_accuracy: 0.9835\n",
            "Epoch 6/20\n",
            "139/139 [==============================] - 5s 39ms/step - loss: 0.0425 - binary_accuracy: 0.9912 - val_loss: 0.1083 - val_binary_accuracy: 0.9724\n",
            "Epoch 7/20\n",
            "139/139 [==============================] - 5s 38ms/step - loss: 0.0279 - binary_accuracy: 0.9957 - val_loss: 0.0682 - val_binary_accuracy: 0.9835\n",
            "Epoch 8/20\n",
            "139/139 [==============================] - 5s 37ms/step - loss: 0.0162 - binary_accuracy: 0.9984 - val_loss: 0.0666 - val_binary_accuracy: 0.9853\n",
            "Epoch 9/20\n",
            "139/139 [==============================] - 5s 38ms/step - loss: 0.0124 - binary_accuracy: 0.9982 - val_loss: 0.0629 - val_binary_accuracy: 0.9853\n",
            "Epoch 10/20\n",
            "139/139 [==============================] - 5s 37ms/step - loss: 0.0115 - binary_accuracy: 0.9987 - val_loss: 0.0682 - val_binary_accuracy: 0.9853\n",
            "Epoch 11/20\n",
            "139/139 [==============================] - 5s 38ms/step - loss: 0.0103 - binary_accuracy: 0.9993 - val_loss: 0.0670 - val_binary_accuracy: 0.9853\n",
            "Epoch 12/20\n",
            "139/139 [==============================] - 6s 41ms/step - loss: 0.0075 - binary_accuracy: 0.9998 - val_loss: 0.0734 - val_binary_accuracy: 0.9853\n",
            "Epoch 13/20\n",
            "139/139 [==============================] - 6s 40ms/step - loss: 0.0060 - binary_accuracy: 0.9996 - val_loss: 0.0767 - val_binary_accuracy: 0.9853\n",
            "Epoch 14/20\n",
            "139/139 [==============================] - 6s 40ms/step - loss: 0.0067 - binary_accuracy: 0.9993 - val_loss: 0.0743 - val_binary_accuracy: 0.9853\n",
            "Epoch 15/20\n",
            "139/139 [==============================] - 6s 41ms/step - loss: 0.0064 - binary_accuracy: 0.9998 - val_loss: 0.0806 - val_binary_accuracy: 0.9853\n",
            "Epoch 16/20\n",
            "139/139 [==============================] - 6s 44ms/step - loss: 0.0057 - binary_accuracy: 0.9998 - val_loss: 0.0749 - val_binary_accuracy: 0.9853\n",
            "Epoch 17/20\n",
            "139/139 [==============================] - 6s 43ms/step - loss: 0.0045 - binary_accuracy: 0.9998 - val_loss: 0.0716 - val_binary_accuracy: 0.9853\n",
            "Epoch 18/20\n",
            "139/139 [==============================] - 6s 43ms/step - loss: 0.0050 - binary_accuracy: 0.9996 - val_loss: 0.0724 - val_binary_accuracy: 0.9853\n",
            "Epoch 19/20\n",
            "139/139 [==============================] - 6s 44ms/step - loss: 0.0065 - binary_accuracy: 0.9998 - val_loss: 0.0763 - val_binary_accuracy: 0.9853\n"
          ],
          "name": "stdout"
        }
      ]
    },
    {
      "cell_type": "code",
      "metadata": {
        "id": "1it2FMbagB0g",
        "colab_type": "code",
        "outputId": "09083f04-3ba3-40b2-f61f-1506ad7300f6",
        "colab": {
          "base_uri": "https://localhost:8080/",
          "height": 338
        }
      },
      "source": [
        "plot_history(history, ['acc', 'loss', 'lr'])"
      ],
      "execution_count": 0,
      "outputs": [
        {
          "output_type": "display_data",
          "data": {
            "image/png": "[encoded data removed]",
            "text/plain": [
              "<Figure size 1440x360 with 3 Axes>"
            ]
          },
          "metadata": {
            "tags": []
          }
        }
      ]
    },
    {
      "cell_type": "code",
      "metadata": {
        "id": "I5EQrw3kY8rz",
        "colab_type": "code",
        "outputId": "aef976fc-1b4e-4af6-9ebc-be6f79865d43",
        "colab": {
          "base_uri": "https://localhost:8080/",
          "height": 51
        }
      },
      "source": [
        "model.evaluate(val_dataset, steps=val_dataset_steps)"
      ],
      "execution_count": 0,
      "outputs": [
        {
          "output_type": "stream",
          "text": [
            "17/17 [==============================] - 0s 15ms/step - loss: 0.0629 - binary_accuracy: 0.9853\n"
          ],
          "name": "stdout"
        },
        {
          "output_type": "execute_result",
          "data": {
            "text/plain": [
              "[0.06294184404096621, 0.9852941]"
            ]
          },
          "metadata": {
            "tags": []
          },
          "execution_count": 104
        }
      ]
    },
    {
      "cell_type": "code",
      "metadata": {
        "id": "J9-h5njw9VL3",
        "colab_type": "code",
        "colab": {}
      },
      "source": [
        "model_name = 'RNN_GRU_BiDir'\n",
        "architecture_path = str(Path(MODEL_DIR/f'{model_name}_weights.h5'))\n",
        "weights_path = str(Path(MODEL_DIR/f'{model_name}_arch.json'))"
      ],
      "execution_count": 0,
      "outputs": []
    },
    {
      "cell_type": "code",
      "metadata": {
        "id": "XxCm25_w9kKt",
        "colab_type": "code",
        "colab": {}
      },
      "source": [
        "save_nn_model(model, architecture_path, weights_path)"
      ],
      "execution_count": 0,
      "outputs": []
    },
    {
      "cell_type": "code",
      "metadata": {
        "id": "g5zohLui9mSZ",
        "colab_type": "code",
        "colab": {}
      },
      "source": [
        "del model"
      ],
      "execution_count": 0,
      "outputs": []
    },
    {
      "cell_type": "code",
      "metadata": {
        "id": "1ozkrG-z9lsL",
        "colab_type": "code",
        "colab": {}
      },
      "source": [
        "loaded_model = load_nn_model(architecture_path, weights_path)"
      ],
      "execution_count": 0,
      "outputs": []
    },
    {
      "cell_type": "code",
      "metadata": {
        "id": "Jmy2_rqdZBuz",
        "colab_type": "code",
        "colab": {}
      },
      "source": [
        "val_predictions, val_labels = model_predict(loaded_model, val_dataset, step=val_dataset_steps)"
      ],
      "execution_count": 0,
      "outputs": []
    },
    {
      "cell_type": "code",
      "metadata": {
        "id": "M0PRFV7dZF3T",
        "colab_type": "code",
        "outputId": "33e7bc2f-24f6-47e1-c6bf-3411ff1be6fc",
        "colab": {
          "base_uri": "https://localhost:8080/",
          "height": 539
        }
      },
      "source": [
        "model_report(val_labels, val_predictions, n_classes, classes, all_metrics=True)"
      ],
      "execution_count": 0,
      "outputs": [
        {
          "output_type": "stream",
          "text": [
            "Precision score: 98.55%\n",
            "Accuracy score: 98.53%\n",
            "F1 score: 96.64%\n",
            "\n",
            "Classification Report:\n",
            "              precision    recall  f1-score   support\n",
            "\n",
            "           0       0.98      1.00      0.99       472\n",
            "           1       1.00      0.89      0.94        72\n",
            "\n",
            "    accuracy                           0.99       544\n",
            "   macro avg       0.99      0.94      0.97       544\n",
            "weighted avg       0.99      0.99      0.98       544\n",
            "\n"
          ],
          "name": "stdout"
        },
        {
          "output_type": "display_data",
          "data": {
            "image/png": "[encoded data removed]",
            "text/plain": [
              "<Figure size 432x288 with 1 Axes>"
            ]
          },
          "metadata": {
            "tags": []
          }
        }
      ]
    },
    {
      "cell_type": "code",
      "metadata": {
        "id": "CmzLvTmlZKDU",
        "colab_type": "code",
        "colab": {}
      },
      "source": [
        "model_name = 'RNN - GRU Bidirectional'\n",
        "model_prec, model_accu, model_f1 = model_evaluate(val_labels, val_predictions, n_classes)\n",
        "model_metrics.loc[model_name, 'Precision'] = model_prec\n",
        "model_metrics.loc[model_name, 'Accuracy'] = model_accu\n",
        "model_metrics.loc[model_name, 'F1 score'] = model_f1\n",
        "model_metrics.loc[model_name, 'Error'] = 1 - model_f1"
      ],
      "execution_count": 0,
      "outputs": []
    },
    {
      "cell_type": "code",
      "metadata": {
        "id": "qvJVSy2W-N72",
        "colab_type": "code",
        "colab": {}
      },
      "source": [
        "del loaded_model"
      ],
      "execution_count": 0,
      "outputs": []
    },
    {
      "cell_type": "markdown",
      "metadata": {
        "id": "scnsS7GoaXnX",
        "colab_type": "text"
      },
      "source": [
        "### ***CNN Model - 1D Convolutions***"
      ]
    },
    {
      "cell_type": "code",
      "metadata": {
        "id": "aXaAAOh6bp2t",
        "colab_type": "code",
        "colab": {}
      },
      "source": [
        "def make_cnn_model(\n",
        "    n_categories,\n",
        "    embedding_size,\n",
        "    conv_size,\n",
        "    kernel_size,\n",
        "    dropout,\n",
        "    l1,\n",
        "    l2,\n",
        "    stride=2,\n",
        "):\n",
        "    input_layer = keras.layers.Input(shape=[None])\n",
        "    mask = keras.layers.Lambda(lambda inputs: keras.backend.not_equal(inputs, 0))(input_layer)\n",
        "    embedding_layer = keras.layers.Embedding(VOCABULARY_SIZE + n_oov_buckets, embedding_size)(input_layer)\n",
        "\n",
        "    cnn1_layer = keras.layers.Conv1D(\n",
        "        conv_size,\n",
        "        kernel_size=kernel_size,\n",
        "        strides=stride,\n",
        "        activation=keras.activations.relu,\n",
        "        kernel_initializer=keras.initializers.he_uniform(),\n",
        "    )(embedding_layer)\n",
        "    cnn1_dropout = keras.layers.Dropout(dropout)(cnn1_layer)\n",
        "\n",
        "    cnn2_layer = keras.layers.Conv1D(\n",
        "        conv_size,\n",
        "        kernel_size=kernel_size,\n",
        "        strides=stride,\n",
        "        activation=keras.activations.relu,\n",
        "        kernel_initializer=keras.initializers.he_uniform(),\n",
        "    )(cnn1_dropout)\n",
        "    cnn2_dropout = keras.layers.Dropout(dropout)(cnn2_layer)\n",
        "\n",
        "    max_pool_layer = keras.layers.GlobalMaxPool1D()(cnn2_dropout)\n",
        "    batch_norm_layer = keras.layers.BatchNormalization()(max_pool_layer)\n",
        "    dropout_layer = keras.layers.Dropout(dropout)(batch_norm_layer)\n",
        "\n",
        "    output_layer = keras.layers.Dense(\n",
        "        n_categories,\n",
        "        kernel_regularizer=keras.regularizers.l1_l2(l1, l2),\n",
        "        activation=keras.activations.sigmoid,\n",
        "    )(dropout_layer)\n",
        "\n",
        "    return keras.Model(inputs=input_layer, outputs=output_layer)"
      ],
      "execution_count": 0,
      "outputs": []
    },
    {
      "cell_type": "code",
      "metadata": {
        "id": "EdrWaonRd2Tt",
        "colab_type": "code",
        "colab": {}
      },
      "source": [
        "model = make_cnn_model(\n",
        "    n_categories=n_classes-1,\n",
        "    embedding_size=64,\n",
        "    conv_size=64,\n",
        "    kernel_size=3,\n",
        "    dropout=0.5,\n",
        "    l1=1e-4,\n",
        "    l2=1e-6,\n",
        ")"
      ],
      "execution_count": 0,
      "outputs": []
    },
    {
      "cell_type": "code",
      "metadata": {
        "id": "Qs-k54OdeivM",
        "colab_type": "code",
        "colab": {}
      },
      "source": [
        "model.compile(\n",
        "    loss=keras.losses.binary_crossentropy,\n",
        "    optimizer=keras.optimizers.Adam(lr=3e-4),\n",
        "    metrics=[\n",
        "        keras.metrics.binary_accuracy,\n",
        "    ],\n",
        ")"
      ],
      "execution_count": 0,
      "outputs": []
    },
    {
      "cell_type": "code",
      "metadata": {
        "id": "K7gR_2rdevvk",
        "colab_type": "code",
        "outputId": "76fc4e43-bb56-494f-b21e-275200d0db5e",
        "colab": {
          "base_uri": "https://localhost:8080/",
          "height": 493
        }
      },
      "source": [
        "model.summary()"
      ],
      "execution_count": 0,
      "outputs": [
        {
          "output_type": "stream",
          "text": [
            "Model: \"model_2\"\n",
            "_________________________________________________________________\n",
            "Layer (type)                 Output Shape              Param #   \n",
            "=================================================================\n",
            "input_3 (InputLayer)         [(None, None)]            0         \n",
            "_________________________________________________________________\n",
            "embedding_2 (Embedding)      (None, None, 64)          608640    \n",
            "_________________________________________________________________\n",
            "conv1d (Conv1D)              (None, None, 64)          12352     \n",
            "_________________________________________________________________\n",
            "dropout_2 (Dropout)          (None, None, 64)          0         \n",
            "_________________________________________________________________\n",
            "conv1d_1 (Conv1D)            (None, None, 64)          12352     \n",
            "_________________________________________________________________\n",
            "dropout_3 (Dropout)          (None, None, 64)          0         \n",
            "_________________________________________________________________\n",
            "global_max_pooling1d_2 (Glob (None, 64)                0         \n",
            "_________________________________________________________________\n",
            "batch_normalization_2 (Batch (None, 64)                256       \n",
            "_________________________________________________________________\n",
            "dropout_4 (Dropout)          (None, 64)                0         \n",
            "_________________________________________________________________\n",
            "dense_2 (Dense)              (None, 1)                 65        \n",
            "=================================================================\n",
            "Total params: 633,665\n",
            "Trainable params: 633,537\n",
            "Non-trainable params: 128\n",
            "_________________________________________________________________\n"
          ],
          "name": "stdout"
        }
      ]
    },
    {
      "cell_type": "code",
      "metadata": {
        "id": "I238rkpJe339",
        "colab_type": "code",
        "outputId": "e608e0f7-1138-4998-f044-bb2e42c38cc9",
        "colab": {
          "base_uri": "https://localhost:8080/",
          "height": 714
        }
      },
      "source": [
        "history = model.fit(\n",
        "    x=train_dataset,\n",
        "    steps_per_epoch=train_dataset_steps,\n",
        "    validation_data=val_dataset,\n",
        "    validation_steps=val_dataset_steps,\n",
        "    epochs=20,\n",
        "    callbacks=callbacks,\n",
        "    class_weight=class_weights,\n",
        "    verbose=1\n",
        ")"
      ],
      "execution_count": 0,
      "outputs": [
        {
          "output_type": "stream",
          "text": [
            "Train for 139 steps, validate for 17 steps\n",
            "Epoch 1/20\n",
            "139/139 [==============================] - 3s 23ms/step - loss: 0.8173 - binary_accuracy: 0.5717 - val_loss: 0.5386 - val_binary_accuracy: 0.8676\n",
            "Epoch 2/20\n",
            "139/139 [==============================] - 2s 13ms/step - loss: 0.6281 - binary_accuracy: 0.6895 - val_loss: 0.4169 - val_binary_accuracy: 0.8676\n",
            "Epoch 3/20\n",
            "139/139 [==============================] - 2s 13ms/step - loss: 0.4787 - binary_accuracy: 0.7918 - val_loss: 0.3340 - val_binary_accuracy: 0.8676\n",
            "Epoch 4/20\n",
            "139/139 [==============================] - 2s 13ms/step - loss: 0.3647 - binary_accuracy: 0.8651 - val_loss: 0.2821 - val_binary_accuracy: 0.8676\n",
            "Epoch 5/20\n",
            "139/139 [==============================] - 2s 13ms/step - loss: 0.2685 - binary_accuracy: 0.9128 - val_loss: 0.2366 - val_binary_accuracy: 0.8860\n",
            "Epoch 6/20\n",
            "139/139 [==============================] - 2s 13ms/step - loss: 0.1923 - binary_accuracy: 0.9472 - val_loss: 0.1904 - val_binary_accuracy: 0.9173\n",
            "Epoch 7/20\n",
            "139/139 [==============================] - 2s 14ms/step - loss: 0.1355 - binary_accuracy: 0.9658 - val_loss: 0.1487 - val_binary_accuracy: 0.9393\n",
            "Epoch 8/20\n",
            "139/139 [==============================] - 2s 14ms/step - loss: 0.0909 - binary_accuracy: 0.9825 - val_loss: 0.1355 - val_binary_accuracy: 0.9504\n",
            "Epoch 9/20\n",
            "139/139 [==============================] - 2s 14ms/step - loss: 0.0770 - binary_accuracy: 0.9843 - val_loss: 0.1326 - val_binary_accuracy: 0.9504\n",
            "Epoch 10/20\n",
            "139/139 [==============================] - 2s 14ms/step - loss: 0.0680 - binary_accuracy: 0.9852 - val_loss: 0.1178 - val_binary_accuracy: 0.9540\n",
            "Epoch 11/20\n",
            "139/139 [==============================] - 2s 15ms/step - loss: 0.0562 - binary_accuracy: 0.9872 - val_loss: 0.1262 - val_binary_accuracy: 0.9540\n",
            "Epoch 12/20\n",
            "139/139 [==============================] - 2s 14ms/step - loss: 0.0458 - binary_accuracy: 0.9910 - val_loss: 0.1176 - val_binary_accuracy: 0.9540\n",
            "Epoch 13/20\n",
            "139/139 [==============================] - 2s 14ms/step - loss: 0.0342 - binary_accuracy: 0.9946 - val_loss: 0.1120 - val_binary_accuracy: 0.9632\n",
            "Epoch 14/20\n",
            "139/139 [==============================] - 2s 13ms/step - loss: 0.0311 - binary_accuracy: 0.9948 - val_loss: 0.1136 - val_binary_accuracy: 0.9632\n",
            "Epoch 15/20\n",
            "139/139 [==============================] - 2s 13ms/step - loss: 0.0281 - binary_accuracy: 0.9944 - val_loss: 0.1201 - val_binary_accuracy: 0.9632\n",
            "Epoch 16/20\n",
            "139/139 [==============================] - 2s 13ms/step - loss: 0.0229 - binary_accuracy: 0.9955 - val_loss: 0.1225 - val_binary_accuracy: 0.9614\n",
            "Epoch 17/20\n",
            "139/139 [==============================] - 2s 14ms/step - loss: 0.0195 - binary_accuracy: 0.9955 - val_loss: 0.1095 - val_binary_accuracy: 0.9632\n",
            "Epoch 18/20\n",
            "139/139 [==============================] - 2s 14ms/step - loss: 0.0197 - binary_accuracy: 0.9957 - val_loss: 0.0990 - val_binary_accuracy: 0.9651\n",
            "Epoch 19/20\n",
            "139/139 [==============================] - 2s 14ms/step - loss: 0.0155 - binary_accuracy: 0.9980 - val_loss: 0.1124 - val_binary_accuracy: 0.9632\n",
            "Epoch 20/20\n",
            "139/139 [==============================] - 2s 14ms/step - loss: 0.0144 - binary_accuracy: 0.9980 - val_loss: 0.1236 - val_binary_accuracy: 0.9632\n"
          ],
          "name": "stdout"
        }
      ]
    },
    {
      "cell_type": "code",
      "metadata": {
        "id": "g9qalxJDfPsN",
        "colab_type": "code",
        "outputId": "40a49cff-02c4-4838-c4de-483a1eead9a3",
        "colab": {
          "base_uri": "https://localhost:8080/",
          "height": 338
        }
      },
      "source": [
        "plot_history(history, ['acc', 'loss', 'lr'])"
      ],
      "execution_count": 0,
      "outputs": [
        {
          "output_type": "display_data",
          "data": {
            "image/png": "[encoded data removed]",
            "text/plain": [
              "<Figure size 1440x360 with 3 Axes>"
            ]
          },
          "metadata": {
            "tags": []
          }
        }
      ]
    },
    {
      "cell_type": "code",
      "metadata": {
        "id": "3bd9l69rfXRm",
        "colab_type": "code",
        "outputId": "acbb5f8a-f421-47d2-f2c8-9d32e4e8b143",
        "colab": {
          "base_uri": "https://localhost:8080/",
          "height": 51
        }
      },
      "source": [
        "model.evaluate(val_dataset, steps=val_dataset_steps)"
      ],
      "execution_count": 0,
      "outputs": [
        {
          "output_type": "stream",
          "text": [
            "17/17 [==============================] - 0s 5ms/step - loss: 0.1236 - binary_accuracy: 0.9632\n"
          ],
          "name": "stdout"
        },
        {
          "output_type": "execute_result",
          "data": {
            "text/plain": [
              "[0.12360799029086005, 0.9632353]"
            ]
          },
          "metadata": {
            "tags": []
          },
          "execution_count": 119
        }
      ]
    },
    {
      "cell_type": "code",
      "metadata": {
        "id": "nx_BEDNkfY2l",
        "colab_type": "code",
        "colab": {}
      },
      "source": [
        "model_name = 'CNN_1D_Conv'\n",
        "architecture_path = str(Path(MODEL_DIR/f'{model_name}_weights.h5'))\n",
        "weights_path = str(Path(MODEL_DIR/f'{model_name}_arch.json'))"
      ],
      "execution_count": 0,
      "outputs": []
    },
    {
      "cell_type": "code",
      "metadata": {
        "id": "zOwABllyf00C",
        "colab_type": "code",
        "colab": {}
      },
      "source": [
        "save_nn_model(model, architecture_path, weights_path)"
      ],
      "execution_count": 0,
      "outputs": []
    },
    {
      "cell_type": "code",
      "metadata": {
        "id": "NE00c7C3f2UN",
        "colab_type": "code",
        "colab": {}
      },
      "source": [
        "del model"
      ],
      "execution_count": 0,
      "outputs": []
    },
    {
      "cell_type": "code",
      "metadata": {
        "id": "-RijPJ8Hf-TG",
        "colab_type": "code",
        "colab": {}
      },
      "source": [
        "loaded_model = load_nn_model(architecture_path, weights_path)"
      ],
      "execution_count": 0,
      "outputs": []
    },
    {
      "cell_type": "code",
      "metadata": {
        "id": "xaV1EnuXgHYq",
        "colab_type": "code",
        "colab": {}
      },
      "source": [
        "val_predictions, val_labels = model_predict(loaded_model, val_dataset, step=val_dataset_steps)"
      ],
      "execution_count": 0,
      "outputs": []
    },
    {
      "cell_type": "code",
      "metadata": {
        "id": "33WkU1C7gSDJ",
        "colab_type": "code",
        "outputId": "a7ea1565-e338-45bd-c60e-10e0b00f061a",
        "colab": {
          "base_uri": "https://localhost:8080/",
          "height": 539
        }
      },
      "source": [
        "model_report(val_labels, val_predictions, n_classes, classes, all_metrics=True)"
      ],
      "execution_count": 0,
      "outputs": [
        {
          "output_type": "stream",
          "text": [
            "Precision score: 96.47%\n",
            "Accuracy score: 96.32%\n",
            "F1 score: 90.90%\n",
            "\n",
            "Classification Report:\n",
            "              precision    recall  f1-score   support\n",
            "\n",
            "           0       0.96      1.00      0.98       472\n",
            "           1       1.00      0.72      0.84        72\n",
            "\n",
            "    accuracy                           0.96       544\n",
            "   macro avg       0.98      0.86      0.91       544\n",
            "weighted avg       0.96      0.96      0.96       544\n",
            "\n"
          ],
          "name": "stdout"
        },
        {
          "output_type": "display_data",
          "data": {
            "image/png": "[encoded data removed]",
            "text/plain": [
              "<Figure size 432x288 with 1 Axes>"
            ]
          },
          "metadata": {
            "tags": []
          }
        }
      ]
    },
    {
      "cell_type": "code",
      "metadata": {
        "id": "C1Q2djYfgZxi",
        "colab_type": "code",
        "colab": {}
      },
      "source": [
        "model_name = 'CNN - 1D Convolutional'\n",
        "model_prec, model_accu, model_f1 = model_evaluate(val_labels, val_predictions, n_classes)\n",
        "model_metrics.loc[model_name, 'Precision'] = model_prec\n",
        "model_metrics.loc[model_name, 'Accuracy'] = model_accu\n",
        "model_metrics.loc[model_name, 'F1 score'] = model_f1\n",
        "model_metrics.loc[model_name, 'Error'] = 1 - model_f1"
      ],
      "execution_count": 0,
      "outputs": []
    },
    {
      "cell_type": "code",
      "metadata": {
        "id": "ric9jnjcgt-f",
        "colab_type": "code",
        "colab": {}
      },
      "source": [
        "del loaded_model"
      ],
      "execution_count": 0,
      "outputs": []
    },
    {
      "cell_type": "markdown",
      "metadata": {
        "id": "OAE3Y9l1g73Y",
        "colab_type": "text"
      },
      "source": [
        "### ***Mix Model - 1D Convs & LSTM***"
      ]
    },
    {
      "cell_type": "code",
      "metadata": {
        "id": "W7Scfu3Ng6qK",
        "colab_type": "code",
        "colab": {}
      },
      "source": [
        "def make_mix_model(\n",
        "    n_categories,\n",
        "    embedding_size,\n",
        "    lstm_size,\n",
        "    lstm_dropout,\n",
        "    conv_size,\n",
        "    kernel_size,\n",
        "    dropout,\n",
        "    l1,\n",
        "    l2,\n",
        "    stride=2,\n",
        "):\n",
        "    input_layer = keras.layers.Input(shape=[None])\n",
        "    mask = keras.layers.Lambda(lambda inputs: keras.backend.not_equal(inputs, 0))(input_layer)\n",
        "    embedding_layer = keras.layers.Embedding(VOCABULARY_SIZE + n_oov_buckets, embedding_size)(input_layer)\n",
        "\n",
        "    lstm_layer = keras.layers.Bidirectional(\n",
        "        keras.layers.LSTM(lstm_size, dropout=lstm_dropout, return_sequences=True)\n",
        "    )(embedding_layer, mask=mask)\n",
        "\n",
        "    cnn_layer = keras.layers.Conv1D(\n",
        "        conv_size,\n",
        "        kernel_size=kernel_size,\n",
        "        strides=stride,\n",
        "        activation=keras.activations.relu,\n",
        "        kernel_initializer=keras.initializers.he_uniform(),\n",
        "    )(lstm_layer)\n",
        "    cnn_dropout = keras.layers.Dropout(dropout)(cnn_layer)\n",
        "\n",
        "    max_pool_layer = keras.layers.GlobalMaxPool1D()(cnn_dropout)\n",
        "    batch_norm_layer = keras.layers.BatchNormalization()(max_pool_layer)\n",
        "    dropout_layer = keras.layers.Dropout(dropout)(batch_norm_layer)\n",
        "\n",
        "    output_layer = keras.layers.Dense(\n",
        "        n_categories,\n",
        "        kernel_regularizer=keras.regularizers.l1_l2(l1, l2),\n",
        "        activation=keras.activations.sigmoid,\n",
        "    )(dropout_layer)\n",
        "\n",
        "    return keras.Model(inputs=input_layer, outputs=output_layer)"
      ],
      "execution_count": 0,
      "outputs": []
    },
    {
      "cell_type": "code",
      "metadata": {
        "id": "M6zsYLtLk6O1",
        "colab_type": "code",
        "colab": {}
      },
      "source": [
        "model = make_mix_model(\n",
        "    n_categories=n_classes-1,\n",
        "    embedding_size=64,\n",
        "    lstm_size=64,\n",
        "    lstm_dropout=0.4,\n",
        "    conv_size=64,\n",
        "    kernel_size=3,\n",
        "    dropout=0.5,\n",
        "    l1=1e-4,\n",
        "    l2=1e-6,\n",
        ")"
      ],
      "execution_count": 0,
      "outputs": []
    },
    {
      "cell_type": "code",
      "metadata": {
        "id": "sIUJp7QElTvf",
        "colab_type": "code",
        "colab": {}
      },
      "source": [
        "model.compile(\n",
        "    loss=keras.losses.binary_crossentropy,\n",
        "    optimizer=keras.optimizers.Adam(lr=3e-4),\n",
        "    metrics=[\n",
        "        keras.metrics.binary_accuracy,\n",
        "    ],\n",
        ")"
      ],
      "execution_count": 0,
      "outputs": []
    },
    {
      "cell_type": "code",
      "metadata": {
        "id": "lTqhaHG4lVrV",
        "colab_type": "code",
        "outputId": "17a9752d-eacf-4407-ad56-87903f30ba02",
        "colab": {
          "base_uri": "https://localhost:8080/",
          "height": 493
        }
      },
      "source": [
        "model.summary()"
      ],
      "execution_count": 0,
      "outputs": [
        {
          "output_type": "stream",
          "text": [
            "Model: \"model_3\"\n",
            "__________________________________________________________________________________________________\n",
            "Layer (type)                    Output Shape         Param #     Connected to                     \n",
            "==================================================================================================\n",
            "input_4 (InputLayer)            [(None, None)]       0                                            \n",
            "__________________________________________________________________________________________________\n",
            "embedding_3 (Embedding)         (None, None, 64)     608640      input_4[0][0]                    \n",
            "__________________________________________________________________________________________________\n",
            "lambda_3 (Lambda)               (None, None)         0           input_4[0][0]                    \n",
            "__________________________________________________________________________________________________\n",
            "bidirectional_4 (Bidirectional) (None, None, 128)    66048       embedding_3[0][0]                \n",
            "__________________________________________________________________________________________________\n",
            "conv1d_2 (Conv1D)               (None, None, 64)     24640       bidirectional_4[0][0]            \n",
            "__________________________________________________________________________________________________\n",
            "dropout_5 (Dropout)             (None, None, 64)     0           conv1d_2[0][0]                   \n",
            "__________________________________________________________________________________________________\n",
            "global_max_pooling1d_3 (GlobalM (None, 64)           0           dropout_5[0][0]                  \n",
            "__________________________________________________________________________________________________\n",
            "batch_normalization_3 (BatchNor (None, 64)           256         global_max_pooling1d_3[0][0]     \n",
            "__________________________________________________________________________________________________\n",
            "dropout_6 (Dropout)             (None, 64)           0           batch_normalization_3[0][0]      \n",
            "__________________________________________________________________________________________________\n",
            "dense_3 (Dense)                 (None, 1)            65          dropout_6[0][0]                  \n",
            "==================================================================================================\n",
            "Total params: 699,649\n",
            "Trainable params: 699,521\n",
            "Non-trainable params: 128\n",
            "__________________________________________________________________________________________________\n"
          ],
          "name": "stdout"
        }
      ]
    },
    {
      "cell_type": "code",
      "metadata": {
        "id": "5nhDsokple2z",
        "colab_type": "code",
        "outputId": "18ecdcd1-e305-46a3-9afd-f8c86f3238d3",
        "colab": {
          "base_uri": "https://localhost:8080/",
          "height": 1000
        }
      },
      "source": [
        "history = model.fit(\n",
        "    x=train_dataset,\n",
        "    steps_per_epoch=train_dataset_steps,\n",
        "    validation_data=val_dataset,\n",
        "    validation_steps=val_dataset_steps,\n",
        "    epochs=20,\n",
        "    callbacks=callbacks,\n",
        "    class_weight=class_weights,\n",
        "    verbose=1\n",
        ")"
      ],
      "execution_count": 0,
      "outputs": [
        {
          "output_type": "stream",
          "text": [
            "Train for 139 steps, validate for 17 steps\n",
            "Epoch 1/20\n",
            "WARNING:tensorflow:Unresolved object in checkpoint: (root).optimizer\n",
            "WARNING:tensorflow:Unresolved object in checkpoint: (root).optimizer.iter\n",
            "WARNING:tensorflow:Unresolved object in checkpoint: (root).optimizer.beta_1\n",
            "WARNING:tensorflow:Unresolved object in checkpoint: (root).optimizer.beta_2\n",
            "WARNING:tensorflow:Unresolved object in checkpoint: (root).optimizer.decay\n",
            "WARNING:tensorflow:Unresolved object in checkpoint: (root).optimizer.learning_rate\n",
            "WARNING:tensorflow:Unresolved object in checkpoint: (root).optimizer's state 'm' for (root).layer_with_weights-0.embeddings\n",
            "WARNING:tensorflow:Unresolved object in checkpoint: (root).optimizer's state 'm' for (root).layer_with_weights-1.kernel\n",
            "WARNING:tensorflow:Unresolved object in checkpoint: (root).optimizer's state 'm' for (root).layer_with_weights-1.bias\n",
            "WARNING:tensorflow:Unresolved object in checkpoint: (root).optimizer's state 'm' for (root).layer_with_weights-2.kernel\n",
            "WARNING:tensorflow:Unresolved object in checkpoint: (root).optimizer's state 'm' for (root).layer_with_weights-2.bias\n",
            "WARNING:tensorflow:Unresolved object in checkpoint: (root).optimizer's state 'm' for (root).layer_with_weights-3.gamma\n",
            "WARNING:tensorflow:Unresolved object in checkpoint: (root).optimizer's state 'm' for (root).layer_with_weights-3.beta\n",
            "WARNING:tensorflow:Unresolved object in checkpoint: (root).optimizer's state 'm' for (root).layer_with_weights-4.kernel\n",
            "WARNING:tensorflow:Unresolved object in checkpoint: (root).optimizer's state 'm' for (root).layer_with_weights-4.bias\n",
            "WARNING:tensorflow:Unresolved object in checkpoint: (root).optimizer's state 'v' for (root).layer_with_weights-0.embeddings\n",
            "WARNING:tensorflow:Unresolved object in checkpoint: (root).optimizer's state 'v' for (root).layer_with_weights-1.kernel\n",
            "WARNING:tensorflow:Unresolved object in checkpoint: (root).optimizer's state 'v' for (root).layer_with_weights-1.bias\n",
            "WARNING:tensorflow:Unresolved object in checkpoint: (root).optimizer's state 'v' for (root).layer_with_weights-2.kernel\n",
            "WARNING:tensorflow:Unresolved object in checkpoint: (root).optimizer's state 'v' for (root).layer_with_weights-2.bias\n",
            "WARNING:tensorflow:Unresolved object in checkpoint: (root).optimizer's state 'v' for (root).layer_with_weights-3.gamma\n",
            "WARNING:tensorflow:Unresolved object in checkpoint: (root).optimizer's state 'v' for (root).layer_with_weights-3.beta\n",
            "WARNING:tensorflow:Unresolved object in checkpoint: (root).optimizer's state 'v' for (root).layer_with_weights-4.kernel\n",
            "WARNING:tensorflow:Unresolved object in checkpoint: (root).optimizer's state 'v' for (root).layer_with_weights-4.bias\n",
            "WARNING:tensorflow:A checkpoint was restored (e.g. tf.train.Checkpoint.restore or tf.keras.Model.load_weights) but not all checkpointed values were used. See above for specific issues. Use expect_partial() on the load status object, e.g. tf.train.Checkpoint.restore(...).expect_partial(), to silence these warnings, or use assert_consumed() to make the check explicit. See https://www.tensorflow.org/alpha/guide/checkpoints#loading_mechanics for details.\n",
            "139/139 [==============================] - 16s 116ms/step - loss: 0.5650 - binary_accuracy: 0.7194 - val_loss: 0.5567 - val_binary_accuracy: 0.8676\n",
            "Epoch 2/20\n",
            "139/139 [==============================] - 4s 31ms/step - loss: 0.2696 - binary_accuracy: 0.9222 - val_loss: 0.3562 - val_binary_accuracy: 0.9706\n",
            "Epoch 3/20\n",
            "139/139 [==============================] - 4s 30ms/step - loss: 0.1211 - binary_accuracy: 0.9831 - val_loss: 0.1615 - val_binary_accuracy: 0.9779\n",
            "Epoch 4/20\n",
            "139/139 [==============================] - 4s 31ms/step - loss: 0.0757 - binary_accuracy: 0.9894 - val_loss: 0.1001 - val_binary_accuracy: 0.9798\n",
            "Epoch 5/20\n",
            "139/139 [==============================] - 5s 33ms/step - loss: 0.0490 - binary_accuracy: 0.9937 - val_loss: 0.0696 - val_binary_accuracy: 0.9835\n",
            "Epoch 6/20\n",
            "139/139 [==============================] - 4s 32ms/step - loss: 0.0373 - binary_accuracy: 0.9960 - val_loss: 0.0686 - val_binary_accuracy: 0.9816\n",
            "Epoch 7/20\n",
            "139/139 [==============================] - 4s 31ms/step - loss: 0.0287 - binary_accuracy: 0.9973 - val_loss: 0.0700 - val_binary_accuracy: 0.9835\n",
            "Epoch 8/20\n",
            "139/139 [==============================] - 4s 31ms/step - loss: 0.0224 - binary_accuracy: 0.9980 - val_loss: 0.0950 - val_binary_accuracy: 0.9761\n",
            "Epoch 9/20\n",
            "139/139 [==============================] - 4s 31ms/step - loss: 0.0170 - binary_accuracy: 0.9980 - val_loss: 0.0572 - val_binary_accuracy: 0.9853\n",
            "Epoch 10/20\n",
            "139/139 [==============================] - 4s 31ms/step - loss: 0.0145 - binary_accuracy: 0.9993 - val_loss: 0.0711 - val_binary_accuracy: 0.9816\n",
            "Epoch 11/20\n",
            "139/139 [==============================] - 4s 31ms/step - loss: 0.0116 - binary_accuracy: 0.9993 - val_loss: 0.0811 - val_binary_accuracy: 0.9779\n",
            "Epoch 12/20\n",
            "139/139 [==============================] - 4s 32ms/step - loss: 0.0101 - binary_accuracy: 0.9991 - val_loss: 0.0606 - val_binary_accuracy: 0.9853\n",
            "Epoch 13/20\n",
            "139/139 [==============================] - 5s 33ms/step - loss: 0.0086 - binary_accuracy: 0.9991 - val_loss: 0.1048 - val_binary_accuracy: 0.9743\n",
            "Epoch 14/20\n",
            "139/139 [==============================] - 5s 33ms/step - loss: 0.0080 - binary_accuracy: 0.9993 - val_loss: 0.0771 - val_binary_accuracy: 0.9798\n",
            "Epoch 15/20\n",
            "139/139 [==============================] - 5s 32ms/step - loss: 0.0092 - binary_accuracy: 0.9996 - val_loss: 0.1081 - val_binary_accuracy: 0.9724\n",
            "Epoch 16/20\n",
            "139/139 [==============================] - 4s 32ms/step - loss: 0.0069 - binary_accuracy: 1.0000 - val_loss: 0.0773 - val_binary_accuracy: 0.9798\n",
            "Epoch 17/20\n",
            "139/139 [==============================] - 4s 32ms/step - loss: 0.0057 - binary_accuracy: 1.0000 - val_loss: 0.0832 - val_binary_accuracy: 0.9798\n",
            "Epoch 18/20\n",
            "139/139 [==============================] - 5s 33ms/step - loss: 0.0062 - binary_accuracy: 0.9996 - val_loss: 0.0805 - val_binary_accuracy: 0.9798\n",
            "Epoch 19/20\n",
            "139/139 [==============================] - 4s 32ms/step - loss: 0.0080 - binary_accuracy: 0.9991 - val_loss: 0.0823 - val_binary_accuracy: 0.9798\n"
          ],
          "name": "stdout"
        }
      ]
    },
    {
      "cell_type": "code",
      "metadata": {
        "id": "6K43e6COlmRt",
        "colab_type": "code",
        "outputId": "2e3828a2-222b-4755-f9d1-07e6eae1b1d5",
        "colab": {
          "base_uri": "https://localhost:8080/",
          "height": 338
        }
      },
      "source": [
        "plot_history(history, ['acc', 'loss', 'lr'])"
      ],
      "execution_count": 0,
      "outputs": [
        {
          "output_type": "display_data",
          "data": {
            "image/png": "[encoded data removed]",
            "text/plain": [
              "<Figure size 1440x360 with 3 Axes>"
            ]
          },
          "metadata": {
            "tags": []
          }
        }
      ]
    },
    {
      "cell_type": "code",
      "metadata": {
        "id": "VUThOrTEl4Yr",
        "colab_type": "code",
        "outputId": "e3d8ee06-51f9-4ba3-b3f1-625529a78aa6",
        "colab": {
          "base_uri": "https://localhost:8080/",
          "height": 51
        }
      },
      "source": [
        "model.evaluate(val_dataset, steps=val_dataset_steps)"
      ],
      "execution_count": 0,
      "outputs": [
        {
          "output_type": "stream",
          "text": [
            "17/17 [==============================] - 0s 11ms/step - loss: 0.0572 - binary_accuracy: 0.9853\n"
          ],
          "name": "stdout"
        },
        {
          "output_type": "execute_result",
          "data": {
            "text/plain": [
              "[0.05716516833533259, 0.9852941]"
            ]
          },
          "metadata": {
            "tags": []
          },
          "execution_count": 134
        }
      ]
    },
    {
      "cell_type": "code",
      "metadata": {
        "id": "Df1mxKVgl_97",
        "colab_type": "code",
        "colab": {}
      },
      "source": [
        "model_name = 'Mix_LSTM_1D_Conv'\n",
        "architecture_path = str(Path(MODEL_DIR/f'{model_name}_weights.h5'))\n",
        "weights_path = str(Path(MODEL_DIR/f'{model_name}_arch.json'))"
      ],
      "execution_count": 0,
      "outputs": []
    },
    {
      "cell_type": "code",
      "metadata": {
        "id": "7-NHXtFJmhNE",
        "colab_type": "code",
        "colab": {}
      },
      "source": [
        "save_nn_model(model, architecture_path, weights_path)"
      ],
      "execution_count": 0,
      "outputs": []
    },
    {
      "cell_type": "code",
      "metadata": {
        "id": "QgsUPEFAmi6l",
        "colab_type": "code",
        "colab": {}
      },
      "source": [
        "del model"
      ],
      "execution_count": 0,
      "outputs": []
    },
    {
      "cell_type": "code",
      "metadata": {
        "id": "lEl6JXYBmpjh",
        "colab_type": "code",
        "colab": {}
      },
      "source": [
        "loaded_model = load_nn_model(architecture_path, weights_path)"
      ],
      "execution_count": 0,
      "outputs": []
    },
    {
      "cell_type": "code",
      "metadata": {
        "id": "24dnhPm1mxI1",
        "colab_type": "code",
        "colab": {}
      },
      "source": [
        "val_predictions, val_labels = model_predict(loaded_model, val_dataset, step=val_dataset_steps)"
      ],
      "execution_count": 0,
      "outputs": []
    },
    {
      "cell_type": "code",
      "metadata": {
        "id": "7or0tSbYm5C6",
        "colab_type": "code",
        "outputId": "7850ea67-2beb-422e-c2e0-db9c39905982",
        "colab": {
          "base_uri": "https://localhost:8080/",
          "height": 539
        }
      },
      "source": [
        "model_report(val_labels, val_predictions, n_classes, classes, all_metrics=True)"
      ],
      "execution_count": 0,
      "outputs": [
        {
          "output_type": "stream",
          "text": [
            "Precision score: 98.53%\n",
            "Accuracy score: 98.53%\n",
            "F1 score: 96.68%\n",
            "\n",
            "Classification Report:\n",
            "              precision    recall  f1-score   support\n",
            "\n",
            "           0       0.99      1.00      0.99       472\n",
            "           1       0.98      0.90      0.94        72\n",
            "\n",
            "    accuracy                           0.99       544\n",
            "   macro avg       0.99      0.95      0.97       544\n",
            "weighted avg       0.99      0.99      0.99       544\n",
            "\n"
          ],
          "name": "stdout"
        },
        {
          "output_type": "display_data",
          "data": {
            "image/png": "[encoded data removed]",
            "text/plain": [
              "<Figure size 432x288 with 1 Axes>"
            ]
          },
          "metadata": {
            "tags": []
          }
        }
      ]
    },
    {
      "cell_type": "code",
      "metadata": {
        "id": "ddYJxuBrnBlX",
        "colab_type": "code",
        "colab": {}
      },
      "source": [
        "model_name = 'Mix - LSTM & 1D Convs'\n",
        "model_prec, model_accu, model_f1 = model_evaluate(val_labels, val_predictions, n_classes)\n",
        "model_metrics.loc[model_name, 'Precision'] = model_prec\n",
        "model_metrics.loc[model_name, 'Accuracy'] = model_accu\n",
        "model_metrics.loc[model_name, 'F1 score'] = model_f1\n",
        "model_metrics.loc[model_name, 'Error'] = 1 - model_f1"
      ],
      "execution_count": 0,
      "outputs": []
    },
    {
      "cell_type": "code",
      "metadata": {
        "id": "oTQ-rLmmnYsr",
        "colab_type": "code",
        "colab": {}
      },
      "source": [
        "del loaded_model"
      ],
      "execution_count": 0,
      "outputs": []
    },
    {
      "cell_type": "markdown",
      "metadata": {
        "id": "6BdfF-YEpWoX",
        "colab_type": "text"
      },
      "source": [
        "### ***Results***"
      ]
    },
    {
      "cell_type": "code",
      "metadata": {
        "id": "fCZJ5bg-pbFM",
        "colab_type": "code",
        "outputId": "9538ae63-6720-4e01-8c6a-c09f00a0e485",
        "colab": {
          "base_uri": "https://localhost:8080/",
          "height": 173
        }
      },
      "source": [
        "model_metrics.sort_values(by='F1 score', ascending=False)"
      ],
      "execution_count": 0,
      "outputs": [
        {
          "output_type": "execute_result",
          "data": {
            "text/html": [
              "<div>\n",
              "<style scoped>\n",
              "    .dataframe tbody tr th:only-of-type {\n",
              "        vertical-align: middle;\n",
              "    }\n",
              "\n",
              "    .dataframe tbody tr th {\n",
              "        vertical-align: top;\n",
              "    }\n",
              "\n",
              "    .dataframe thead th {\n",
              "        text-align: right;\n",
              "    }\n",
              "</style>\n",
              "<table border=\"1\" class=\"dataframe\">\n",
              "  <thead>\n",
              "    <tr style=\"text-align: right;\">\n",
              "      <th></th>\n",
              "      <th>Precision</th>\n",
              "      <th>Accuracy</th>\n",
              "      <th>F1 score</th>\n",
              "      <th>Error</th>\n",
              "    </tr>\n",
              "  </thead>\n",
              "  <tbody>\n",
              "    <tr>\n",
              "      <th>RNN - LSTM Bidirectional</th>\n",
              "      <td>0.989109</td>\n",
              "      <td>0.988971</td>\n",
              "      <td>0.975103</td>\n",
              "      <td>0.024897</td>\n",
              "    </tr>\n",
              "    <tr>\n",
              "      <th>Mix - LSTM &amp; 1D Convs</th>\n",
              "      <td>0.985289</td>\n",
              "      <td>0.985294</td>\n",
              "      <td>0.966804</td>\n",
              "      <td>0.033196</td>\n",
              "    </tr>\n",
              "    <tr>\n",
              "      <th>RNN - GRU Bidirectional</th>\n",
              "      <td>0.985539</td>\n",
              "      <td>0.985294</td>\n",
              "      <td>0.966387</td>\n",
              "      <td>0.0336134</td>\n",
              "    </tr>\n",
              "    <tr>\n",
              "      <th>CNN - 1D Convolutional</th>\n",
              "      <td>0.96473</td>\n",
              "      <td>0.963235</td>\n",
              "      <td>0.908981</td>\n",
              "      <td>0.0910186</td>\n",
              "    </tr>\n",
              "  </tbody>\n",
              "</table>\n",
              "</div>"
            ],
            "text/plain": [
              "                         Precision  Accuracy  F1 score      Error\n",
              "RNN - LSTM Bidirectional  0.989109  0.988971  0.975103   0.024897\n",
              "Mix - LSTM & 1D Convs     0.985289  0.985294  0.966804   0.033196\n",
              "RNN - GRU Bidirectional   0.985539  0.985294  0.966387  0.0336134\n",
              "CNN - 1D Convolutional     0.96473  0.963235  0.908981  0.0910186"
            ]
          },
          "metadata": {
            "tags": []
          },
          "execution_count": 143
        }
      ]
    },
    {
      "cell_type": "code",
      "metadata": {
        "id": "bwy9PVDMqhkv",
        "colab_type": "code",
        "colab": {}
      },
      "source": [
        "results_df = model_metrics.copy().sort_values(by='Error').reset_index()"
      ],
      "execution_count": 0,
      "outputs": []
    },
    {
      "cell_type": "code",
      "metadata": {
        "id": "l9RRrchmtb8B",
        "colab_type": "code",
        "colab": {}
      },
      "source": [
        "results_df = results_df.rename(columns={'index':'Model'})[['Model','Error']]"
      ],
      "execution_count": 0,
      "outputs": []
    },
    {
      "cell_type": "code",
      "metadata": {
        "id": "pYydh5YKpz9j",
        "colab_type": "code",
        "outputId": "b4e75fe1-153e-45d9-e92e-b5bce98b7d31",
        "colab": {
          "base_uri": "https://localhost:8080/",
          "height": 302
        }
      },
      "source": [
        "# setting plot style & size\n",
        "sns.set(style='darkgrid')\n",
        "plt.figure(figsize=(10, 4))\n",
        "\n",
        "# rendering plot\n",
        "sns.barplot(x='Error', y='Model', data=results_df, edgecolor='black', orient='h')\n",
        "\n",
        "# adding chart title\n",
        "plt.title('Error by Model', size=14)\n",
        "\n",
        "# adding custom labels for axes\n",
        "plt.ylabel(\"Model\")\n",
        "plt.xlabel(\"Error\")\n",
        "\n",
        "# adding labels on data points\n",
        "for index, row in results_df.iterrows():\n",
        "    plt.text(row.Error + 0.005, index, f'{row.Error:.2%}', color='black', ha=\"center\", size=11)"
      ],
      "execution_count": 0,
      "outputs": [
        {
          "output_type": "display_data",
          "data": {
            "image/png": "[encoded data removed]",
            "text/plain": [
              "<Figure size 720x288 with 1 Axes>"
            ]
          },
          "metadata": {
            "tags": []
          }
        }
      ]
    },
    {
      "cell_type": "markdown",
      "metadata": {
        "id": "Fnv7cU3u-u1f",
        "colab_type": "text"
      },
      "source": [
        "## ***Final Model***"
      ]
    },
    {
      "cell_type": "code",
      "metadata": {
        "id": "ePq45_g__DHr",
        "colab_type": "code",
        "colab": {}
      },
      "source": [
        "valtrain_data = pd.concat([train_data, val_data], ignore_index=True)\n",
        "\n",
        "valtrain_ds = make_dataset(valtrain_data)\n",
        "test_ds = make_dataset(test_data)"
      ],
      "execution_count": 0,
      "outputs": []
    },
    {
      "cell_type": "code",
      "metadata": {
        "id": "wCWK6ByY-oFd",
        "colab_type": "code",
        "outputId": "a3a2c4e1-eeb4-4068-f945-75d337ff3991",
        "colab": {
          "base_uri": "https://localhost:8080/",
          "height": 34
        }
      },
      "source": [
        "print([x.shape for x in (train_data, val_data, valtrain_data)])"
      ],
      "execution_count": 0,
      "outputs": [
        {
          "output_type": "stream",
          "text": [
            "[(4456, 2), (556, 2), (5012, 2)]\n"
          ],
          "name": "stdout"
        }
      ]
    },
    {
      "cell_type": "code",
      "metadata": {
        "id": "zzm8RbgdBLte",
        "colab_type": "code",
        "colab": {}
      },
      "source": [
        "valtrain_dataset = (\n",
        "    valtrain_ds.repeat()\n",
        "    .batch(BATCH_SIZE, drop_remainder=True)\n",
        "    .map(preprocess_batch)\n",
        "    .map(encode_words)\n",
        "    .prefetch(1)\n",
        ")"
      ],
      "execution_count": 0,
      "outputs": []
    },
    {
      "cell_type": "code",
      "metadata": {
        "id": "Ioxu5N5-B1hm",
        "colab_type": "code",
        "colab": {}
      },
      "source": [
        "test_dataset = (\n",
        "    test_ds.batch(BATCH_SIZE, drop_remainder=True)\n",
        "    .map(preprocess_batch)\n",
        "    .map(encode_words)\n",
        ")"
      ],
      "execution_count": 0,
      "outputs": []
    },
    {
      "cell_type": "code",
      "metadata": {
        "id": "HoT_iXWWCEH4",
        "colab_type": "code",
        "colab": {}
      },
      "source": [
        "valtrain_dataset_steps = len(valtrain_data) // BATCH_SIZE\n",
        "test_dataset_steps = len(test_data) // BATCH_SIZE"
      ],
      "execution_count": 0,
      "outputs": []
    },
    {
      "cell_type": "code",
      "metadata": {
        "id": "sWiuSFhPCY33",
        "colab_type": "code",
        "colab": {}
      },
      "source": [
        "model = make_lstm_model(\n",
        "    n_categories=n_classes-1,\n",
        "    embedding_size=64,\n",
        "    lstm_size=64,\n",
        "    lstm_dropout=0.4,\n",
        "    dropout=0.5,\n",
        "    l1=1e-4,\n",
        "    l2=1e-6,\n",
        ")"
      ],
      "execution_count": 0,
      "outputs": []
    },
    {
      "cell_type": "code",
      "metadata": {
        "id": "cwqY40a-Ds7y",
        "colab_type": "code",
        "colab": {}
      },
      "source": [
        "model.compile(\n",
        "    loss=keras.losses.binary_crossentropy,\n",
        "    optimizer=keras.optimizers.Adam(lr=3e-4),\n",
        "    metrics=[\n",
        "        keras.metrics.binary_accuracy,\n",
        "    ],\n",
        ")"
      ],
      "execution_count": 0,
      "outputs": []
    },
    {
      "cell_type": "code",
      "metadata": {
        "id": "Mn3RPtz6ODKF",
        "colab_type": "code",
        "colab": {}
      },
      "source": [
        "def scheduler(epoch):\n",
        "    lr = 3e-4\n",
        "    if epoch < 10:\n",
        "        return lr\n",
        "    elif epoch < 14:\n",
        "        return lr * 0.3\n",
        "    else:\n",
        "        return lr * 0.09"
      ],
      "execution_count": 0,
      "outputs": []
    },
    {
      "cell_type": "code",
      "metadata": {
        "id": "jlfol64_MsvF",
        "colab_type": "code",
        "colab": {}
      },
      "source": [
        "total_epochs = 5\n",
        "callbacks=[\n",
        "    keras.callbacks.LearningRateScheduler(scheduler)\n",
        "]"
      ],
      "execution_count": 0,
      "outputs": []
    },
    {
      "cell_type": "code",
      "metadata": {
        "id": "wGPrn7vFD4NF",
        "colab_type": "code",
        "outputId": "308be75f-c3a4-43fd-ed18-aa1ef9b3b0c5",
        "colab": {
          "base_uri": "https://localhost:8080/",
          "height": 442
        }
      },
      "source": [
        "history = model.fit(\n",
        "    x=valtrain_dataset,\n",
        "    steps_per_epoch=valtrain_dataset_steps,\n",
        "    epochs=total_epochs,\n",
        "    callbacks=callbacks,\n",
        "    class_weight=class_weights,\n",
        "    verbose=1\n",
        ")"
      ],
      "execution_count": 0,
      "outputs": [
        {
          "output_type": "stream",
          "text": [
            "Train for 156 steps\n",
            "Epoch 1/5\n",
            "156/156 [==============================] - 7s 45ms/step - loss: 0.1095 - binary_accuracy: 0.9774\n",
            "Epoch 2/5\n",
            "  1/156 [..............................] - ETA: 2s"
          ],
          "name": "stdout"
        },
        {
          "output_type": "error",
          "ename": "CancelledError",
          "evalue": "ignored",
          "traceback": [
            "\u001b[0;31m---------------------------------------------------------------------------\u001b[0m",
            "\u001b[0;31mCancelledError\u001b[0m                            Traceback (most recent call last)",
            "\u001b[0;32m<ipython-input-162-7f98e17b5f96>\u001b[0m in \u001b[0;36m<module>\u001b[0;34m()\u001b[0m\n\u001b[1;32m      5\u001b[0m     \u001b[0mcallbacks\u001b[0m\u001b[0;34m=\u001b[0m\u001b[0mcallbacks\u001b[0m\u001b[0;34m,\u001b[0m\u001b[0;34m\u001b[0m\u001b[0;34m\u001b[0m\u001b[0m\n\u001b[1;32m      6\u001b[0m     \u001b[0mclass_weight\u001b[0m\u001b[0;34m=\u001b[0m\u001b[0mclass_weights\u001b[0m\u001b[0;34m,\u001b[0m\u001b[0;34m\u001b[0m\u001b[0;34m\u001b[0m\u001b[0m\n\u001b[0;32m----> 7\u001b[0;31m     \u001b[0mverbose\u001b[0m\u001b[0;34m=\u001b[0m\u001b[0;36m1\u001b[0m\u001b[0;34m\u001b[0m\u001b[0;34m\u001b[0m\u001b[0m\n\u001b[0m\u001b[1;32m      8\u001b[0m )\n",
            "\u001b[0;32m/tensorflow-2.0.0/python3.6/tensorflow_core/python/keras/engine/training.py\u001b[0m in \u001b[0;36mfit\u001b[0;34m(self, x, y, batch_size, epochs, verbose, callbacks, validation_split, validation_data, shuffle, class_weight, sample_weight, initial_epoch, steps_per_epoch, validation_steps, validation_freq, max_queue_size, workers, use_multiprocessing, **kwargs)\u001b[0m\n\u001b[1;32m    726\u001b[0m         \u001b[0mmax_queue_size\u001b[0m\u001b[0;34m=\u001b[0m\u001b[0mmax_queue_size\u001b[0m\u001b[0;34m,\u001b[0m\u001b[0;34m\u001b[0m\u001b[0;34m\u001b[0m\u001b[0m\n\u001b[1;32m    727\u001b[0m         \u001b[0mworkers\u001b[0m\u001b[0;34m=\u001b[0m\u001b[0mworkers\u001b[0m\u001b[0;34m,\u001b[0m\u001b[0;34m\u001b[0m\u001b[0;34m\u001b[0m\u001b[0m\n\u001b[0;32m--> 728\u001b[0;31m         use_multiprocessing=use_multiprocessing)\n\u001b[0m\u001b[1;32m    729\u001b[0m \u001b[0;34m\u001b[0m\u001b[0m\n\u001b[1;32m    730\u001b[0m   def evaluate(self,\n",
            "\u001b[0;32m/tensorflow-2.0.0/python3.6/tensorflow_core/python/keras/engine/training_v2.py\u001b[0m in \u001b[0;36mfit\u001b[0;34m(self, model, x, y, batch_size, epochs, verbose, callbacks, validation_split, validation_data, shuffle, class_weight, sample_weight, initial_epoch, steps_per_epoch, validation_steps, validation_freq, **kwargs)\u001b[0m\n\u001b[1;32m    322\u001b[0m                 \u001b[0mmode\u001b[0m\u001b[0;34m=\u001b[0m\u001b[0mModeKeys\u001b[0m\u001b[0;34m.\u001b[0m\u001b[0mTRAIN\u001b[0m\u001b[0;34m,\u001b[0m\u001b[0;34m\u001b[0m\u001b[0;34m\u001b[0m\u001b[0m\n\u001b[1;32m    323\u001b[0m                 \u001b[0mtraining_context\u001b[0m\u001b[0;34m=\u001b[0m\u001b[0mtraining_context\u001b[0m\u001b[0;34m,\u001b[0m\u001b[0;34m\u001b[0m\u001b[0;34m\u001b[0m\u001b[0m\n\u001b[0;32m--> 324\u001b[0;31m                 total_epochs=epochs)\n\u001b[0m\u001b[1;32m    325\u001b[0m             \u001b[0mcbks\u001b[0m\u001b[0;34m.\u001b[0m\u001b[0mmake_logs\u001b[0m\u001b[0;34m(\u001b[0m\u001b[0mmodel\u001b[0m\u001b[0;34m,\u001b[0m \u001b[0mepoch_logs\u001b[0m\u001b[0;34m,\u001b[0m \u001b[0mtraining_result\u001b[0m\u001b[0;34m,\u001b[0m \u001b[0mModeKeys\u001b[0m\u001b[0;34m.\u001b[0m\u001b[0mTRAIN\u001b[0m\u001b[0;34m)\u001b[0m\u001b[0;34m\u001b[0m\u001b[0;34m\u001b[0m\u001b[0m\n\u001b[1;32m    326\u001b[0m \u001b[0;34m\u001b[0m\u001b[0m\n",
            "\u001b[0;32m/tensorflow-2.0.0/python3.6/tensorflow_core/python/keras/engine/training_v2.py\u001b[0m in \u001b[0;36mrun_one_epoch\u001b[0;34m(model, iterator, execution_function, dataset_size, batch_size, strategy, steps_per_epoch, num_samples, mode, training_context, total_epochs)\u001b[0m\n\u001b[1;32m    121\u001b[0m         step=step, mode=mode, size=current_batch_size) as batch_logs:\n\u001b[1;32m    122\u001b[0m       \u001b[0;32mtry\u001b[0m\u001b[0;34m:\u001b[0m\u001b[0;34m\u001b[0m\u001b[0;34m\u001b[0m\u001b[0m\n\u001b[0;32m--> 123\u001b[0;31m         \u001b[0mbatch_outs\u001b[0m \u001b[0;34m=\u001b[0m \u001b[0mexecution_function\u001b[0m\u001b[0;34m(\u001b[0m\u001b[0miterator\u001b[0m\u001b[0;34m)\u001b[0m\u001b[0;34m\u001b[0m\u001b[0;34m\u001b[0m\u001b[0m\n\u001b[0m\u001b[1;32m    124\u001b[0m       \u001b[0;32mexcept\u001b[0m \u001b[0;34m(\u001b[0m\u001b[0mStopIteration\u001b[0m\u001b[0;34m,\u001b[0m \u001b[0merrors\u001b[0m\u001b[0;34m.\u001b[0m\u001b[0mOutOfRangeError\u001b[0m\u001b[0;34m)\u001b[0m\u001b[0;34m:\u001b[0m\u001b[0;34m\u001b[0m\u001b[0;34m\u001b[0m\u001b[0m\n\u001b[1;32m    125\u001b[0m         \u001b[0;31m# TODO(kaftan): File bug about tf function and errors.OutOfRangeError?\u001b[0m\u001b[0;34m\u001b[0m\u001b[0;34m\u001b[0m\u001b[0;34m\u001b[0m\u001b[0m\n",
            "\u001b[0;32m/tensorflow-2.0.0/python3.6/tensorflow_core/python/keras/engine/training_v2_utils.py\u001b[0m in \u001b[0;36mexecution_function\u001b[0;34m(input_fn)\u001b[0m\n\u001b[1;32m     84\u001b[0m     \u001b[0;31m# `numpy` translates Tensors to values in Eager mode.\u001b[0m\u001b[0;34m\u001b[0m\u001b[0;34m\u001b[0m\u001b[0;34m\u001b[0m\u001b[0m\n\u001b[1;32m     85\u001b[0m     return nest.map_structure(_non_none_constant_value,\n\u001b[0;32m---> 86\u001b[0;31m                               distributed_function(input_fn))\n\u001b[0m\u001b[1;32m     87\u001b[0m \u001b[0;34m\u001b[0m\u001b[0m\n\u001b[1;32m     88\u001b[0m   \u001b[0;32mreturn\u001b[0m \u001b[0mexecution_function\u001b[0m\u001b[0;34m\u001b[0m\u001b[0;34m\u001b[0m\u001b[0m\n",
            "\u001b[0;32m/tensorflow-2.0.0/python3.6/tensorflow_core/python/eager/def_function.py\u001b[0m in \u001b[0;36m__call__\u001b[0;34m(self, *args, **kwds)\u001b[0m\n\u001b[1;32m    455\u001b[0m \u001b[0;34m\u001b[0m\u001b[0m\n\u001b[1;32m    456\u001b[0m     \u001b[0mtracing_count\u001b[0m \u001b[0;34m=\u001b[0m \u001b[0mself\u001b[0m\u001b[0;34m.\u001b[0m\u001b[0m_get_tracing_count\u001b[0m\u001b[0;34m(\u001b[0m\u001b[0;34m)\u001b[0m\u001b[0;34m\u001b[0m\u001b[0;34m\u001b[0m\u001b[0m\n\u001b[0;32m--> 457\u001b[0;31m     \u001b[0mresult\u001b[0m \u001b[0;34m=\u001b[0m \u001b[0mself\u001b[0m\u001b[0;34m.\u001b[0m\u001b[0m_call\u001b[0m\u001b[0;34m(\u001b[0m\u001b[0;34m*\u001b[0m\u001b[0margs\u001b[0m\u001b[0;34m,\u001b[0m \u001b[0;34m**\u001b[0m\u001b[0mkwds\u001b[0m\u001b[0;34m)\u001b[0m\u001b[0;34m\u001b[0m\u001b[0;34m\u001b[0m\u001b[0m\n\u001b[0m\u001b[1;32m    458\u001b[0m     \u001b[0;32mif\u001b[0m \u001b[0mtracing_count\u001b[0m \u001b[0;34m==\u001b[0m \u001b[0mself\u001b[0m\u001b[0;34m.\u001b[0m\u001b[0m_get_tracing_count\u001b[0m\u001b[0;34m(\u001b[0m\u001b[0;34m)\u001b[0m\u001b[0;34m:\u001b[0m\u001b[0;34m\u001b[0m\u001b[0;34m\u001b[0m\u001b[0m\n\u001b[1;32m    459\u001b[0m       \u001b[0mself\u001b[0m\u001b[0;34m.\u001b[0m\u001b[0m_call_counter\u001b[0m\u001b[0;34m.\u001b[0m\u001b[0mcalled_without_tracing\u001b[0m\u001b[0;34m(\u001b[0m\u001b[0;34m)\u001b[0m\u001b[0;34m\u001b[0m\u001b[0;34m\u001b[0m\u001b[0m\n",
            "\u001b[0;32m/tensorflow-2.0.0/python3.6/tensorflow_core/python/eager/def_function.py\u001b[0m in \u001b[0;36m_call\u001b[0;34m(self, *args, **kwds)\u001b[0m\n\u001b[1;32m    485\u001b[0m       \u001b[0;31m# In this case we have created variables on the first call, so we run the\u001b[0m\u001b[0;34m\u001b[0m\u001b[0;34m\u001b[0m\u001b[0;34m\u001b[0m\u001b[0m\n\u001b[1;32m    486\u001b[0m       \u001b[0;31m# defunned version which is guaranteed to never create variables.\u001b[0m\u001b[0;34m\u001b[0m\u001b[0;34m\u001b[0m\u001b[0;34m\u001b[0m\u001b[0m\n\u001b[0;32m--> 487\u001b[0;31m       \u001b[0;32mreturn\u001b[0m \u001b[0mself\u001b[0m\u001b[0;34m.\u001b[0m\u001b[0m_stateless_fn\u001b[0m\u001b[0;34m(\u001b[0m\u001b[0;34m*\u001b[0m\u001b[0margs\u001b[0m\u001b[0;34m,\u001b[0m \u001b[0;34m**\u001b[0m\u001b[0mkwds\u001b[0m\u001b[0;34m)\u001b[0m  \u001b[0;31m# pylint: disable=not-callable\u001b[0m\u001b[0;34m\u001b[0m\u001b[0;34m\u001b[0m\u001b[0m\n\u001b[0m\u001b[1;32m    488\u001b[0m     \u001b[0;32melif\u001b[0m \u001b[0mself\u001b[0m\u001b[0;34m.\u001b[0m\u001b[0m_stateful_fn\u001b[0m \u001b[0;32mis\u001b[0m \u001b[0;32mnot\u001b[0m \u001b[0;32mNone\u001b[0m\u001b[0;34m:\u001b[0m\u001b[0;34m\u001b[0m\u001b[0;34m\u001b[0m\u001b[0m\n\u001b[1;32m    489\u001b[0m       \u001b[0;31m# Release the lock early so that multiple threads can perform the call\u001b[0m\u001b[0;34m\u001b[0m\u001b[0;34m\u001b[0m\u001b[0;34m\u001b[0m\u001b[0m\n",
            "\u001b[0;32m/tensorflow-2.0.0/python3.6/tensorflow_core/python/eager/function.py\u001b[0m in \u001b[0;36m__call__\u001b[0;34m(self, *args, **kwargs)\u001b[0m\n\u001b[1;32m   1821\u001b[0m     \u001b[0;34m\"\"\"Calls a graph function specialized to the inputs.\"\"\"\u001b[0m\u001b[0;34m\u001b[0m\u001b[0;34m\u001b[0m\u001b[0m\n\u001b[1;32m   1822\u001b[0m     \u001b[0mgraph_function\u001b[0m\u001b[0;34m,\u001b[0m \u001b[0margs\u001b[0m\u001b[0;34m,\u001b[0m \u001b[0mkwargs\u001b[0m \u001b[0;34m=\u001b[0m \u001b[0mself\u001b[0m\u001b[0;34m.\u001b[0m\u001b[0m_maybe_define_function\u001b[0m\u001b[0;34m(\u001b[0m\u001b[0margs\u001b[0m\u001b[0;34m,\u001b[0m \u001b[0mkwargs\u001b[0m\u001b[0;34m)\u001b[0m\u001b[0;34m\u001b[0m\u001b[0;34m\u001b[0m\u001b[0m\n\u001b[0;32m-> 1823\u001b[0;31m     \u001b[0;32mreturn\u001b[0m \u001b[0mgraph_function\u001b[0m\u001b[0;34m.\u001b[0m\u001b[0m_filtered_call\u001b[0m\u001b[0;34m(\u001b[0m\u001b[0margs\u001b[0m\u001b[0;34m,\u001b[0m \u001b[0mkwargs\u001b[0m\u001b[0;34m)\u001b[0m  \u001b[0;31m# pylint: disable=protected-access\u001b[0m\u001b[0;34m\u001b[0m\u001b[0;34m\u001b[0m\u001b[0m\n\u001b[0m\u001b[1;32m   1824\u001b[0m \u001b[0;34m\u001b[0m\u001b[0m\n\u001b[1;32m   1825\u001b[0m   \u001b[0;34m@\u001b[0m\u001b[0mproperty\u001b[0m\u001b[0;34m\u001b[0m\u001b[0;34m\u001b[0m\u001b[0m\n",
            "\u001b[0;32m/tensorflow-2.0.0/python3.6/tensorflow_core/python/eager/function.py\u001b[0m in \u001b[0;36m_filtered_call\u001b[0;34m(self, args, kwargs)\u001b[0m\n\u001b[1;32m   1139\u001b[0m          if isinstance(t, (ops.Tensor,\n\u001b[1;32m   1140\u001b[0m                            resource_variable_ops.BaseResourceVariable))),\n\u001b[0;32m-> 1141\u001b[0;31m         self.captured_inputs)\n\u001b[0m\u001b[1;32m   1142\u001b[0m \u001b[0;34m\u001b[0m\u001b[0m\n\u001b[1;32m   1143\u001b[0m   \u001b[0;32mdef\u001b[0m \u001b[0m_call_flat\u001b[0m\u001b[0;34m(\u001b[0m\u001b[0mself\u001b[0m\u001b[0;34m,\u001b[0m \u001b[0margs\u001b[0m\u001b[0;34m,\u001b[0m \u001b[0mcaptured_inputs\u001b[0m\u001b[0;34m,\u001b[0m \u001b[0mcancellation_manager\u001b[0m\u001b[0;34m=\u001b[0m\u001b[0;32mNone\u001b[0m\u001b[0;34m)\u001b[0m\u001b[0;34m:\u001b[0m\u001b[0;34m\u001b[0m\u001b[0;34m\u001b[0m\u001b[0m\n",
            "\u001b[0;32m/tensorflow-2.0.0/python3.6/tensorflow_core/python/eager/function.py\u001b[0m in \u001b[0;36m_call_flat\u001b[0;34m(self, args, captured_inputs, cancellation_manager)\u001b[0m\n\u001b[1;32m   1222\u001b[0m     \u001b[0;32mif\u001b[0m \u001b[0mexecuting_eagerly\u001b[0m\u001b[0;34m:\u001b[0m\u001b[0;34m\u001b[0m\u001b[0;34m\u001b[0m\u001b[0m\n\u001b[1;32m   1223\u001b[0m       flat_outputs = forward_function.call(\n\u001b[0;32m-> 1224\u001b[0;31m           ctx, args, cancellation_manager=cancellation_manager)\n\u001b[0m\u001b[1;32m   1225\u001b[0m     \u001b[0;32melse\u001b[0m\u001b[0;34m:\u001b[0m\u001b[0;34m\u001b[0m\u001b[0;34m\u001b[0m\u001b[0m\n\u001b[1;32m   1226\u001b[0m       \u001b[0mgradient_name\u001b[0m \u001b[0;34m=\u001b[0m \u001b[0mself\u001b[0m\u001b[0;34m.\u001b[0m\u001b[0m_delayed_rewrite_functions\u001b[0m\u001b[0;34m.\u001b[0m\u001b[0mregister\u001b[0m\u001b[0;34m(\u001b[0m\u001b[0;34m)\u001b[0m\u001b[0;34m\u001b[0m\u001b[0;34m\u001b[0m\u001b[0m\n",
            "\u001b[0;32m/tensorflow-2.0.0/python3.6/tensorflow_core/python/eager/function.py\u001b[0m in \u001b[0;36mcall\u001b[0;34m(self, ctx, args, cancellation_manager)\u001b[0m\n\u001b[1;32m    509\u001b[0m               \u001b[0minputs\u001b[0m\u001b[0;34m=\u001b[0m\u001b[0margs\u001b[0m\u001b[0;34m,\u001b[0m\u001b[0;34m\u001b[0m\u001b[0;34m\u001b[0m\u001b[0m\n\u001b[1;32m    510\u001b[0m               \u001b[0mattrs\u001b[0m\u001b[0;34m=\u001b[0m\u001b[0;34m(\u001b[0m\u001b[0;34m\"executor_type\"\u001b[0m\u001b[0;34m,\u001b[0m \u001b[0mexecutor_type\u001b[0m\u001b[0;34m,\u001b[0m \u001b[0;34m\"config_proto\"\u001b[0m\u001b[0;34m,\u001b[0m \u001b[0mconfig\u001b[0m\u001b[0;34m)\u001b[0m\u001b[0;34m,\u001b[0m\u001b[0;34m\u001b[0m\u001b[0;34m\u001b[0m\u001b[0m\n\u001b[0;32m--> 511\u001b[0;31m               ctx=ctx)\n\u001b[0m\u001b[1;32m    512\u001b[0m         \u001b[0;32melse\u001b[0m\u001b[0;34m:\u001b[0m\u001b[0;34m\u001b[0m\u001b[0;34m\u001b[0m\u001b[0m\n\u001b[1;32m    513\u001b[0m           outputs = execute.execute_with_cancellation(\n",
            "\u001b[0;32m/tensorflow-2.0.0/python3.6/tensorflow_core/python/eager/execute.py\u001b[0m in \u001b[0;36mquick_execute\u001b[0;34m(op_name, num_outputs, inputs, attrs, ctx, name)\u001b[0m\n\u001b[1;32m     65\u001b[0m     \u001b[0;32melse\u001b[0m\u001b[0;34m:\u001b[0m\u001b[0;34m\u001b[0m\u001b[0;34m\u001b[0m\u001b[0m\n\u001b[1;32m     66\u001b[0m       \u001b[0mmessage\u001b[0m \u001b[0;34m=\u001b[0m \u001b[0me\u001b[0m\u001b[0;34m.\u001b[0m\u001b[0mmessage\u001b[0m\u001b[0;34m\u001b[0m\u001b[0;34m\u001b[0m\u001b[0m\n\u001b[0;32m---> 67\u001b[0;31m     \u001b[0msix\u001b[0m\u001b[0;34m.\u001b[0m\u001b[0mraise_from\u001b[0m\u001b[0;34m(\u001b[0m\u001b[0mcore\u001b[0m\u001b[0;34m.\u001b[0m\u001b[0m_status_to_exception\u001b[0m\u001b[0;34m(\u001b[0m\u001b[0me\u001b[0m\u001b[0;34m.\u001b[0m\u001b[0mcode\u001b[0m\u001b[0;34m,\u001b[0m \u001b[0mmessage\u001b[0m\u001b[0;34m)\u001b[0m\u001b[0;34m,\u001b[0m \u001b[0;32mNone\u001b[0m\u001b[0;34m)\u001b[0m\u001b[0;34m\u001b[0m\u001b[0;34m\u001b[0m\u001b[0m\n\u001b[0m\u001b[1;32m     68\u001b[0m   \u001b[0;32mexcept\u001b[0m \u001b[0mTypeError\u001b[0m \u001b[0;32mas\u001b[0m \u001b[0me\u001b[0m\u001b[0;34m:\u001b[0m\u001b[0;34m\u001b[0m\u001b[0;34m\u001b[0m\u001b[0m\n\u001b[1;32m     69\u001b[0m     keras_symbolic_tensors = [\n",
            "\u001b[0;32m/usr/local/lib/python3.6/dist-packages/six.py\u001b[0m in \u001b[0;36mraise_from\u001b[0;34m(value, from_value)\u001b[0m\n",
            "\u001b[0;31mCancelledError\u001b[0m:  [_Derived_]RecvAsync is cancelled.\n\t [[{{node Adam/Adam/update/AssignSubVariableOp/_51}}]]\n\t [[Reshape_30/_48]] [Op:__inference_distributed_function_196837]\n\nFunction call stack:\ndistributed_function\n"
          ]
        }
      ]
    },
    {
      "cell_type": "code",
      "metadata": {
        "id": "fA0sS6TPEV56",
        "colab_type": "code",
        "colab": {}
      },
      "source": [
        "model.evaluate(test_dataset, steps=test_dataset_steps)"
      ],
      "execution_count": 0,
      "outputs": []
    },
    {
      "cell_type": "code",
      "metadata": {
        "id": "KrL_fcacEqur",
        "colab_type": "code",
        "colab": {}
      },
      "source": [
        "model_name = 'Final_Model'\n",
        "architecture_path = str(Path(MODEL_DIR/f'{model_name}_weights.h5'))\n",
        "weights_path = str(Path(MODEL_DIR/f'{model_name}_arch.json'))"
      ],
      "execution_count": 0,
      "outputs": []
    },
    {
      "cell_type": "code",
      "metadata": {
        "id": "TWKHVEnhE9fQ",
        "colab_type": "code",
        "colab": {}
      },
      "source": [
        "save_nn_model(model, architecture_path, weights_path)"
      ],
      "execution_count": 0,
      "outputs": []
    },
    {
      "cell_type": "code",
      "metadata": {
        "id": "RPIbNYjAFIFP",
        "colab_type": "code",
        "colab": {}
      },
      "source": [
        "del model"
      ],
      "execution_count": 0,
      "outputs": []
    },
    {
      "cell_type": "code",
      "metadata": {
        "id": "_bEsy05vFKq_",
        "colab_type": "code",
        "colab": {}
      },
      "source": [
        "loaded_model = load_nn_model(architecture_path, weights_path)"
      ],
      "execution_count": 0,
      "outputs": []
    },
    {
      "cell_type": "code",
      "metadata": {
        "id": "XW76DGlyFVQE",
        "colab_type": "code",
        "colab": {}
      },
      "source": [
        "test_predictions, test_labels = model_predict(loaded_model, test_dataset, step=test_dataset_steps)"
      ],
      "execution_count": 0,
      "outputs": []
    },
    {
      "cell_type": "code",
      "metadata": {
        "id": "3DZlRju1FmZb",
        "colab_type": "code",
        "colab": {}
      },
      "source": [
        "model_report(test_labels, test_predictions, n_classes, classes, all_metrics=True)"
      ],
      "execution_count": 0,
      "outputs": []
    }
  ]
}